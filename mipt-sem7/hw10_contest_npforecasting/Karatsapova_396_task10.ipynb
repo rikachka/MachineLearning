{
 "cells": [
  {
   "cell_type": "markdown",
   "metadata": {},
   "source": [
    "## Домашнее здание №3 / New Product Forecasting\n",
    "\n",
    "### Фамилия Имя / Группа\n",
    "\n",
    "----\n",
    "План выполнения домашнего задания:\n",
    "\n",
    "1. Подготовка данных\n",
    "2. Предсказание без категориальных признаков\n",
    "3. Предсказание с категориальными признаками\n",
    "4.  Другие модели и генерация дополнительных признаков\n",
    "5. Отправка результатов в контест на Kaggle"
   ]
  },
  {
   "cell_type": "code",
   "execution_count": 1,
   "metadata": {
    "collapsed": false
   },
   "outputs": [],
   "source": [
    "import pandas as pd\n",
    "import numpy as np\n",
    "from random import shuffle\n",
    "from sklearn import tree\n",
    "from copy import deepcopy\n",
    "from sklearn.ensemble import BaggingRegressor\n",
    "import matplotlib.pyplot as plt\n",
    "from sklearn.ensemble import RandomForestRegressor\n",
    "from sklearn.ensemble import ExtraTreesRegressor\n",
    "from sklearn.ensemble import GradientBoostingRegressor\n",
    "from sklearn import cross_validation\n",
    "from sklearn.dummy import DummyRegressor\n",
    "from scipy.optimize import minimize_scalar\n",
    "%matplotlib inline"
   ]
  },
  {
   "cell_type": "markdown",
   "metadata": {},
   "source": [
    "## Подготовка данных (1 балл)\n",
    " * Изучить признаки\n",
    " * Выделить категориальные признаки, которые можно использовать для обучения\n",
    " * Выделить датасет только с числовыми признаками\n",
    " * Выделить полезные числовые признаки"
   ]
  },
  {
   "cell_type": "code",
   "execution_count": 4,
   "metadata": {
    "collapsed": false
   },
   "outputs": [
    {
     "data": {
      "text/plain": [
       "(40000, 33)"
      ]
     },
     "execution_count": 4,
     "metadata": {},
     "output_type": "execute_result"
    }
   ],
   "source": [
    "# data = pd.read_csv('blogData_train.csv', header=None)\n",
    "data = pd.read_csv('./data/train.csv', sep=';', index_col='ID')\n",
    "data.shape"
   ]
  },
  {
   "cell_type": "code",
   "execution_count": 3,
   "metadata": {
    "collapsed": false
   },
   "outputs": [
    {
     "data": {
      "text/html": [
       "<div>\n",
       "<table border=\"1\" class=\"dataframe\">\n",
       "  <thead>\n",
       "    <tr style=\"text-align: right;\">\n",
       "      <th></th>\n",
       "      <th>DEMAND</th>\n",
       "      <th>LOCATION_ID</th>\n",
       "      <th>MODEL_BRAND</th>\n",
       "      <th>MODEL_COST_AVG</th>\n",
       "      <th>MODEL_COUNT_SALES_DAYS</th>\n",
       "      <th>MODEL_DIAG</th>\n",
       "      <th>MODEL_DIAG_TYPE</th>\n",
       "      <th>MODEL_HEIGHT</th>\n",
       "      <th>MODEL_ID</th>\n",
       "      <th>MODEL_MEAN_SALES</th>\n",
       "      <th>...</th>\n",
       "      <th>STORE_FORMAT</th>\n",
       "      <th>STORE_OPEN_DTTM</th>\n",
       "      <th>STORE_PRICE_TYPE</th>\n",
       "      <th>STORE_REGION</th>\n",
       "      <th>STORE_RES_ABC</th>\n",
       "      <th>STORE_RES_SPECTR</th>\n",
       "      <th>STORE_TYPE_A</th>\n",
       "      <th>STORE_TYPE_B</th>\n",
       "      <th>STORE_TYPE_C</th>\n",
       "      <th>STORE_TYPE_SPECTR</th>\n",
       "    </tr>\n",
       "    <tr>\n",
       "      <th>ID</th>\n",
       "      <th></th>\n",
       "      <th></th>\n",
       "      <th></th>\n",
       "      <th></th>\n",
       "      <th></th>\n",
       "      <th></th>\n",
       "      <th></th>\n",
       "      <th></th>\n",
       "      <th></th>\n",
       "      <th></th>\n",
       "      <th></th>\n",
       "      <th></th>\n",
       "      <th></th>\n",
       "      <th></th>\n",
       "      <th></th>\n",
       "      <th></th>\n",
       "      <th></th>\n",
       "      <th></th>\n",
       "      <th></th>\n",
       "      <th></th>\n",
       "      <th></th>\n",
       "    </tr>\n",
       "  </thead>\n",
       "  <tbody>\n",
       "    <tr>\n",
       "      <th>0</th>\n",
       "      <td>0.10536</td>\n",
       "      <td>1835543262</td>\n",
       "      <td>ark</td>\n",
       "      <td>5179.7500</td>\n",
       "      <td>NaN</td>\n",
       "      <td>5.5</td>\n",
       "      <td>big</td>\n",
       "      <td>720.0</td>\n",
       "      <td>1682</td>\n",
       "      <td>NaN</td>\n",
       "      <td>...</td>\n",
       "      <td>новый формат</td>\n",
       "      <td>19MAY15:00:00:00</td>\n",
       "      <td>розничная цена (северо-запад-санкт-петербург)</td>\n",
       "      <td>северо-запад</td>\n",
       "      <td>B</td>\n",
       "      <td>0.67</td>\n",
       "      <td>0.75</td>\n",
       "      <td>0.25</td>\n",
       "      <td>0.0</td>\n",
       "      <td>3.06</td>\n",
       "    </tr>\n",
       "    <tr>\n",
       "      <th>1</th>\n",
       "      <td>0.00010</td>\n",
       "      <td>1972241965</td>\n",
       "      <td>samsung</td>\n",
       "      <td>22015.3300</td>\n",
       "      <td>NaN</td>\n",
       "      <td>5.2</td>\n",
       "      <td>big</td>\n",
       "      <td>1920.0</td>\n",
       "      <td>34706</td>\n",
       "      <td>NaN</td>\n",
       "      <td>...</td>\n",
       "      <td>новый формат</td>\n",
       "      <td>20JAN16:00:00:00</td>\n",
       "      <td>розничная цена (северо-запад-днс1)</td>\n",
       "      <td>северо-запад</td>\n",
       "      <td>C</td>\n",
       "      <td>0.48</td>\n",
       "      <td>0.00</td>\n",
       "      <td>1.00</td>\n",
       "      <td>0.0</td>\n",
       "      <td>2.51</td>\n",
       "    </tr>\n",
       "    <tr>\n",
       "      <th>2</th>\n",
       "      <td>0.00010</td>\n",
       "      <td>2027986985</td>\n",
       "      <td>samsung</td>\n",
       "      <td>15592.5900</td>\n",
       "      <td>NaN</td>\n",
       "      <td>5.0</td>\n",
       "      <td>big</td>\n",
       "      <td>1280.0</td>\n",
       "      <td>2753</td>\n",
       "      <td>NaN</td>\n",
       "      <td>...</td>\n",
       "      <td>новый формат</td>\n",
       "      <td>27APR16:00:00:00</td>\n",
       "      <td>розничная цена (дальний восток-якутск)</td>\n",
       "      <td>дальний восток</td>\n",
       "      <td>A</td>\n",
       "      <td>0.64</td>\n",
       "      <td>1.00</td>\n",
       "      <td>0.00</td>\n",
       "      <td>0.0</td>\n",
       "      <td>2.72</td>\n",
       "    </tr>\n",
       "    <tr>\n",
       "      <th>3</th>\n",
       "      <td>0.00010</td>\n",
       "      <td>28432</td>\n",
       "      <td>alcatel</td>\n",
       "      <td>540.9533</td>\n",
       "      <td>29.0</td>\n",
       "      <td>1.8</td>\n",
       "      <td>small</td>\n",
       "      <td>128.0</td>\n",
       "      <td>1593</td>\n",
       "      <td>7.533</td>\n",
       "      <td>...</td>\n",
       "      <td>стандарт</td>\n",
       "      <td>21OCT09:00:00:00</td>\n",
       "      <td>розничная цена (северо-запад-боровичи)</td>\n",
       "      <td>северо-запад</td>\n",
       "      <td>B</td>\n",
       "      <td>0.65</td>\n",
       "      <td>0.50</td>\n",
       "      <td>0.25</td>\n",
       "      <td>0.0</td>\n",
       "      <td>2.04</td>\n",
       "    </tr>\n",
       "    <tr>\n",
       "      <th>4</th>\n",
       "      <td>0.00010</td>\n",
       "      <td>28547</td>\n",
       "      <td>мтс</td>\n",
       "      <td>444.7300</td>\n",
       "      <td>30.0</td>\n",
       "      <td>4.0</td>\n",
       "      <td>medium</td>\n",
       "      <td>480.0</td>\n",
       "      <td>80644</td>\n",
       "      <td>16.830</td>\n",
       "      <td>...</td>\n",
       "      <td>стандарт</td>\n",
       "      <td>20MAY09:00:00:00</td>\n",
       "      <td>розничная цена (северо-запад-санкт-петербург)</td>\n",
       "      <td>северо-запад</td>\n",
       "      <td>A</td>\n",
       "      <td>0.83</td>\n",
       "      <td>0.75</td>\n",
       "      <td>0.25</td>\n",
       "      <td>0.0</td>\n",
       "      <td>2.37</td>\n",
       "    </tr>\n",
       "  </tbody>\n",
       "</table>\n",
       "<p>5 rows × 33 columns</p>\n",
       "</div>"
      ],
      "text/plain": [
       "     DEMAND  LOCATION_ID MODEL_BRAND  MODEL_COST_AVG  MODEL_COUNT_SALES_DAYS  \\\n",
       "ID                                                                             \n",
       "0   0.10536   1835543262         ark       5179.7500                     NaN   \n",
       "1   0.00010   1972241965     samsung      22015.3300                     NaN   \n",
       "2   0.00010   2027986985     samsung      15592.5900                     NaN   \n",
       "3   0.00010        28432     alcatel        540.9533                    29.0   \n",
       "4   0.00010        28547         мтс        444.7300                    30.0   \n",
       "\n",
       "    MODEL_DIAG MODEL_DIAG_TYPE  MODEL_HEIGHT  MODEL_ID  MODEL_MEAN_SALES  \\\n",
       "ID                                                                         \n",
       "0          5.5             big         720.0      1682               NaN   \n",
       "1          5.2             big        1920.0     34706               NaN   \n",
       "2          5.0             big        1280.0      2753               NaN   \n",
       "3          1.8           small         128.0      1593             7.533   \n",
       "4          4.0          medium         480.0     80644            16.830   \n",
       "\n",
       "          ...         STORE_FORMAT   STORE_OPEN_DTTM  \\\n",
       "ID        ...                                          \n",
       "0         ...         новый формат  19MAY15:00:00:00   \n",
       "1         ...         новый формат  20JAN16:00:00:00   \n",
       "2         ...         новый формат  27APR16:00:00:00   \n",
       "3         ...             стандарт  21OCT09:00:00:00   \n",
       "4         ...             стандарт  20MAY09:00:00:00   \n",
       "\n",
       "                                 STORE_PRICE_TYPE    STORE_REGION  \\\n",
       "ID                                                                  \n",
       "0   розничная цена (северо-запад-санкт-петербург)    северо-запад   \n",
       "1              розничная цена (северо-запад-днс1)    северо-запад   \n",
       "2          розничная цена (дальний восток-якутск)  дальний восток   \n",
       "3          розничная цена (северо-запад-боровичи)    северо-запад   \n",
       "4   розничная цена (северо-запад-санкт-петербург)    северо-запад   \n",
       "\n",
       "    STORE_RES_ABC  STORE_RES_SPECTR STORE_TYPE_A  STORE_TYPE_B STORE_TYPE_C  \\\n",
       "ID                                                                            \n",
       "0               B              0.67         0.75          0.25          0.0   \n",
       "1               C              0.48         0.00          1.00          0.0   \n",
       "2               A              0.64         1.00          0.00          0.0   \n",
       "3               B              0.65         0.50          0.25          0.0   \n",
       "4               A              0.83         0.75          0.25          0.0   \n",
       "\n",
       "   STORE_TYPE_SPECTR  \n",
       "ID                    \n",
       "0               3.06  \n",
       "1               2.51  \n",
       "2               2.72  \n",
       "3               2.04  \n",
       "4               2.37  \n",
       "\n",
       "[5 rows x 33 columns]"
      ]
     },
     "execution_count": 3,
     "metadata": {},
     "output_type": "execute_result"
    }
   ],
   "source": [
    "# Посмотрим на данные\n",
    "data.head()"
   ]
  },
  {
   "cell_type": "markdown",
   "metadata": {},
   "source": [
    "### Категориальные признаки\n",
    " * Какие категориальные признаки следует использовать в первую очередь? \n",
    " * Есть ли категориальные признаки, которые в принципе не понятно, как использовать?"
   ]
  },
  {
   "cell_type": "code",
   "execution_count": 5,
   "metadata": {
    "collapsed": false
   },
   "outputs": [
    {
     "data": {
      "text/plain": [
       "Index(['MODEL_BRAND', 'MODEL_DIAG_TYPE', 'MODEL_NAME', 'MODEL_OS',\n",
       "       'MODEL_RES_TYPE', 'MODEL_TYPE', 'STORE_BRAND_ABC',\n",
       "       'STORE_BUILDING_TYPE', 'STORE_CITY', 'STORE_CLUSTER', 'STORE_DIAG_ABC',\n",
       "       'STORE_FORMAT', 'STORE_OPEN_DTTM', 'STORE_PRICE_TYPE', 'STORE_REGION',\n",
       "       'STORE_RES_ABC'],\n",
       "      dtype='object')"
      ]
     },
     "execution_count": 5,
     "metadata": {},
     "output_type": "execute_result"
    }
   ],
   "source": [
    "# Определяем категориальные признаки\n",
    "# По понятным причинам 'LOCATION_ID', 'MODEL_ID' считаются числовыми признаками - их добавляем руками отдельно\n",
    "Categorical_columns = data.columns[([isinstance(z, str) for z in data.ix[0]])]\n",
    "Categorical_columns"
   ]
  },
  {
   "cell_type": "code",
   "execution_count": 5,
   "metadata": {
    "collapsed": false
   },
   "outputs": [
    {
     "name": "stdout",
     "output_type": "stream",
     "text": [
      "Количество уникальных категориальных значений: [845]\n",
      "Удаляем признаки с номерами: \n",
      "                     NoUniqueValues\n",
      "MODEL_NAME                      447\n",
      "STORE_OPEN_DTTM                 246\n",
      "STORE_CITY                       36\n",
      "MODEL_BRAND                      33\n",
      "STORE_CLUSTER                    23\n",
      "STORE_PRICE_TYPE                 20\n",
      "STORE_FORMAT                     10\n",
      "MODEL_OS                          5\n",
      "STORE_REGION                      5\n",
      "MODEL_DIAG_TYPE                   3\n",
      "MODEL_RES_TYPE                    3\n",
      "STORE_BRAND_ABC                   3\n",
      "STORE_BUILDING_TYPE               3\n",
      "STORE_DIAG_ABC                    3\n",
      "STORE_RES_ABC                     3\n",
      "MODEL_TYPE                        2\n"
     ]
    }
   ],
   "source": [
    "# Количество уникальных значений в категориальных признаках\n",
    "dist_val = pd.DataFrame({'NoUniqueValues': [data[z].nunique() for z in Categorical_columns]}, index = Categorical_columns)\n",
    "\n",
    "print('Количество уникальных категориальных значений: '+ str(dist_val.sum().values))\n",
    "print('Удаляем признаки с номерами: \\n'+ str(dist_val.ix[dist_val['NoUniqueValues']>0].sort_values(by='NoUniqueValues', ascending=False)))"
   ]
  },
  {
   "cell_type": "code",
   "execution_count": 12,
   "metadata": {
    "collapsed": false
   },
   "outputs": [
    {
     "data": {
      "text/plain": [
       "Index(['MODEL_BRAND', 'MODEL_DIAG_TYPE', 'MODEL_NAME', 'MODEL_OS',\n",
       "       'MODEL_RES_TYPE', 'MODEL_TYPE', 'STORE_BRAND_ABC',\n",
       "       'STORE_BUILDING_TYPE', 'STORE_CITY', 'STORE_CLUSTER', 'STORE_DIAG_ABC',\n",
       "       'STORE_FORMAT', 'STORE_OPEN_DTTM', 'STORE_PRICE_TYPE', 'STORE_REGION',\n",
       "       'STORE_RES_ABC'],\n",
       "      dtype='object')"
      ]
     },
     "execution_count": 12,
     "metadata": {},
     "output_type": "execute_result"
    }
   ],
   "source": [
    "# Запоминаем те категориальные признаки, с которыми не будем далее работать (используется далее)\n",
    "Categorical_columns_use = Categorical_columns[:]\n",
    "Categorical_columns_use"
   ]
  },
  {
   "cell_type": "markdown",
   "metadata": {},
   "source": [
    "### Числовые признаки\n",
    "* Какие числовые признаки следует использовать в первую очередь? \n",
    "* Есть ли числовые признаки, которые в принципе не понятно, как использовать?\n",
    "* Как заполнять NaN?"
   ]
  },
  {
   "cell_type": "code",
   "execution_count": 6,
   "metadata": {
    "collapsed": false
   },
   "outputs": [
    {
     "data": {
      "text/plain": [
       "Index(['DEMAND', 'MODEL_COST_AVG', 'MODEL_COUNT_SALES_DAYS', 'MODEL_DIAG',\n",
       "       'MODEL_HEIGHT', 'MODEL_MEAN_SALES', 'MODEL_WIDTH', 'STORE_ASSORTMENT',\n",
       "       'STORE_BRAND_SPECTR', 'STORE_DIAG_SPECTR', 'STORE_RES_SPECTR',\n",
       "       'STORE_TYPE_A', 'STORE_TYPE_B', 'STORE_TYPE_C', 'STORE_TYPE_SPECTR'],\n",
       "      dtype='object')"
      ]
     },
     "execution_count": 6,
     "metadata": {},
     "output_type": "execute_result"
    }
   ],
   "source": [
    "# Выделяем числовой датасет: В данном случае удаляем все + MODEL_ID и LOCATION_ID\n",
    "num_data = data.drop(Categorical_columns | data.columns[[1,8]], axis = 1)\n",
    "num_data.columns"
   ]
  },
  {
   "cell_type": "code",
   "execution_count": 18,
   "metadata": {
    "collapsed": false
   },
   "outputs": [
    {
     "name": "stdout",
     "output_type": "stream",
     "text": [
      "Количество NaN:\n"
     ]
    },
    {
     "data": {
      "text/plain": [
       "DEMAND                        0\n",
       "MODEL_COST_AVG                0\n",
       "MODEL_COUNT_SALES_DAYS    18917\n",
       "MODEL_DIAG                  212\n",
       "MODEL_HEIGHT                212\n",
       "MODEL_MEAN_SALES          18917\n",
       "MODEL_WIDTH                 212\n",
       "STORE_ASSORTMENT            235\n",
       "STORE_BRAND_SPECTR          235\n",
       "STORE_DIAG_SPECTR           442\n",
       "STORE_RES_SPECTR            446\n",
       "STORE_TYPE_A                  0\n",
       "STORE_TYPE_B                  0\n",
       "STORE_TYPE_C                  0\n",
       "STORE_TYPE_SPECTR             0\n",
       "dtype: int64"
      ]
     },
     "execution_count": 18,
     "metadata": {},
     "output_type": "execute_result"
    }
   ],
   "source": [
    "# Количество NaN в числовых признаках\n",
    "print('Количество NaN:')\n",
    "nan_val = num_data.isnull().sum().T\n",
    "nan_val\n",
    "# print('Удаляем признаки с номерами: \\n'+ str(nan_val.sort_values(by='NoUniqueValues', ascending=False)))"
   ]
  },
  {
   "cell_type": "markdown",
   "metadata": {},
   "source": [
    "##### Преобразовываем числовые признаки (удаляем/добавляем/заменяем nan)"
   ]
  },
  {
   "cell_type": "code",
   "execution_count": null,
   "metadata": {
    "collapsed": true
   },
   "outputs": [],
   "source": [
    "# Здесь добавьте код по преобразованию числовых признаков\n",
    "\n",
    "# пример\n",
    "num_data[???][num_data[???]<числовой порог]=значение"
   ]
  },
  {
   "cell_type": "code",
   "execution_count": 19,
   "metadata": {
    "collapsed": false
   },
   "outputs": [],
   "source": [
    "# Здесь добавьте код по заполнению NaN\n",
    "num_data = num_data[:].fillna(0)\n"
   ]
  },
  {
   "cell_type": "code",
   "execution_count": null,
   "metadata": {
    "collapsed": true
   },
   "outputs": [],
   "source": [
    "# Здесь добавьте код по удалению числовых признаков\n",
    "num_data.drop([список фич], axis = 1, inplace=True)\n",
    "num_data.columns"
   ]
  },
  {
   "cell_type": "code",
   "execution_count": 21,
   "metadata": {
    "collapsed": false
   },
   "outputs": [
    {
     "data": {
      "text/html": [
       "<div>\n",
       "<table border=\"1\" class=\"dataframe\">\n",
       "  <thead>\n",
       "    <tr style=\"text-align: right;\">\n",
       "      <th></th>\n",
       "      <th>DEMAND</th>\n",
       "      <th>MODEL_COST_AVG</th>\n",
       "      <th>MODEL_COUNT_SALES_DAYS</th>\n",
       "      <th>MODEL_DIAG</th>\n",
       "      <th>MODEL_HEIGHT</th>\n",
       "      <th>MODEL_MEAN_SALES</th>\n",
       "      <th>MODEL_WIDTH</th>\n",
       "      <th>STORE_ASSORTMENT</th>\n",
       "      <th>STORE_BRAND_SPECTR</th>\n",
       "      <th>STORE_DIAG_SPECTR</th>\n",
       "      <th>STORE_RES_SPECTR</th>\n",
       "      <th>STORE_TYPE_A</th>\n",
       "      <th>STORE_TYPE_B</th>\n",
       "      <th>STORE_TYPE_C</th>\n",
       "      <th>STORE_TYPE_SPECTR</th>\n",
       "    </tr>\n",
       "    <tr>\n",
       "      <th>ID</th>\n",
       "      <th></th>\n",
       "      <th></th>\n",
       "      <th></th>\n",
       "      <th></th>\n",
       "      <th></th>\n",
       "      <th></th>\n",
       "      <th></th>\n",
       "      <th></th>\n",
       "      <th></th>\n",
       "      <th></th>\n",
       "      <th></th>\n",
       "      <th></th>\n",
       "      <th></th>\n",
       "      <th></th>\n",
       "      <th></th>\n",
       "    </tr>\n",
       "  </thead>\n",
       "  <tbody>\n",
       "    <tr>\n",
       "      <th>0</th>\n",
       "      <td>0.10536</td>\n",
       "      <td>5179.7500</td>\n",
       "      <td>0.0</td>\n",
       "      <td>5.5</td>\n",
       "      <td>720.0</td>\n",
       "      <td>0.000</td>\n",
       "      <td>1280.0</td>\n",
       "      <td>136.0</td>\n",
       "      <td>0.76</td>\n",
       "      <td>0.78</td>\n",
       "      <td>0.67</td>\n",
       "      <td>0.75</td>\n",
       "      <td>0.25</td>\n",
       "      <td>0.0</td>\n",
       "      <td>3.06</td>\n",
       "    </tr>\n",
       "    <tr>\n",
       "      <th>1</th>\n",
       "      <td>0.00010</td>\n",
       "      <td>22015.3300</td>\n",
       "      <td>0.0</td>\n",
       "      <td>5.2</td>\n",
       "      <td>1920.0</td>\n",
       "      <td>0.000</td>\n",
       "      <td>1080.0</td>\n",
       "      <td>70.0</td>\n",
       "      <td>0.73</td>\n",
       "      <td>0.65</td>\n",
       "      <td>0.48</td>\n",
       "      <td>0.00</td>\n",
       "      <td>1.00</td>\n",
       "      <td>0.0</td>\n",
       "      <td>2.51</td>\n",
       "    </tr>\n",
       "    <tr>\n",
       "      <th>2</th>\n",
       "      <td>0.00010</td>\n",
       "      <td>15592.5900</td>\n",
       "      <td>0.0</td>\n",
       "      <td>5.0</td>\n",
       "      <td>1280.0</td>\n",
       "      <td>0.000</td>\n",
       "      <td>1280.0</td>\n",
       "      <td>106.0</td>\n",
       "      <td>0.89</td>\n",
       "      <td>0.67</td>\n",
       "      <td>0.64</td>\n",
       "      <td>1.00</td>\n",
       "      <td>0.00</td>\n",
       "      <td>0.0</td>\n",
       "      <td>2.72</td>\n",
       "    </tr>\n",
       "    <tr>\n",
       "      <th>3</th>\n",
       "      <td>0.00010</td>\n",
       "      <td>540.9533</td>\n",
       "      <td>29.0</td>\n",
       "      <td>1.8</td>\n",
       "      <td>128.0</td>\n",
       "      <td>7.533</td>\n",
       "      <td>160.0</td>\n",
       "      <td>132.0</td>\n",
       "      <td>0.67</td>\n",
       "      <td>0.60</td>\n",
       "      <td>0.65</td>\n",
       "      <td>0.50</td>\n",
       "      <td>0.25</td>\n",
       "      <td>0.0</td>\n",
       "      <td>2.04</td>\n",
       "    </tr>\n",
       "    <tr>\n",
       "      <th>4</th>\n",
       "      <td>0.00010</td>\n",
       "      <td>444.7300</td>\n",
       "      <td>30.0</td>\n",
       "      <td>4.0</td>\n",
       "      <td>480.0</td>\n",
       "      <td>16.830</td>\n",
       "      <td>800.0</td>\n",
       "      <td>95.0</td>\n",
       "      <td>1.00</td>\n",
       "      <td>0.71</td>\n",
       "      <td>0.83</td>\n",
       "      <td>0.75</td>\n",
       "      <td>0.25</td>\n",
       "      <td>0.0</td>\n",
       "      <td>2.37</td>\n",
       "    </tr>\n",
       "  </tbody>\n",
       "</table>\n",
       "</div>"
      ],
      "text/plain": [
       "     DEMAND  MODEL_COST_AVG  MODEL_COUNT_SALES_DAYS  MODEL_DIAG  MODEL_HEIGHT  \\\n",
       "ID                                                                              \n",
       "0   0.10536       5179.7500                     0.0         5.5         720.0   \n",
       "1   0.00010      22015.3300                     0.0         5.2        1920.0   \n",
       "2   0.00010      15592.5900                     0.0         5.0        1280.0   \n",
       "3   0.00010        540.9533                    29.0         1.8         128.0   \n",
       "4   0.00010        444.7300                    30.0         4.0         480.0   \n",
       "\n",
       "    MODEL_MEAN_SALES  MODEL_WIDTH  STORE_ASSORTMENT  STORE_BRAND_SPECTR  \\\n",
       "ID                                                                        \n",
       "0              0.000       1280.0             136.0                0.76   \n",
       "1              0.000       1080.0              70.0                0.73   \n",
       "2              0.000       1280.0             106.0                0.89   \n",
       "3              7.533        160.0             132.0                0.67   \n",
       "4             16.830        800.0              95.0                1.00   \n",
       "\n",
       "    STORE_DIAG_SPECTR  STORE_RES_SPECTR  STORE_TYPE_A  STORE_TYPE_B  \\\n",
       "ID                                                                    \n",
       "0                0.78              0.67          0.75          0.25   \n",
       "1                0.65              0.48          0.00          1.00   \n",
       "2                0.67              0.64          1.00          0.00   \n",
       "3                0.60              0.65          0.50          0.25   \n",
       "4                0.71              0.83          0.75          0.25   \n",
       "\n",
       "    STORE_TYPE_C  STORE_TYPE_SPECTR  \n",
       "ID                                   \n",
       "0            0.0               3.06  \n",
       "1            0.0               2.51  \n",
       "2            0.0               2.72  \n",
       "3            0.0               2.04  \n",
       "4            0.0               2.37  "
      ]
     },
     "execution_count": 21,
     "metadata": {},
     "output_type": "execute_result"
    }
   ],
   "source": [
    "num_data.head()"
   ]
  },
  {
   "cell_type": "markdown",
   "metadata": {},
   "source": [
    "## Предсказание без категориальных признаков (1 балл)\n",
    "### Вспомогательные функции"
   ]
  },
  {
   "cell_type": "code",
   "execution_count": 7,
   "metadata": {
    "collapsed": true
   },
   "outputs": [],
   "source": [
    "def smape_loss_func(x, y):\n",
    "    SymAPE = [ 2*np.abs(x-y)/(np.abs(x)+np.abs(y))] \n",
    "    return np.mean(SymAPE)\n",
    "\n",
    "def get_numerated_data(df, categorical_columns):\n",
    "    simple_df = deepcopy(df)\n",
    "    for column in categorical_columns:\n",
    "        simple_df[column] = pd.Categorical.from_array(simple_df[column]).labels\n",
    "    \n",
    "    return simple_df\n",
    "\n",
    "def get_binarized_data(df, categorical_columns):\n",
    "    binary_df = deepcopy(df)\n",
    "    for column in categorical_columns:\n",
    "        binary_df = pd.concat([binary_df, pd.get_dummies(binary_df[column], prefix=column, prefix_sep=': ')], axis=1)\n",
    "        del binary_df[column]\n",
    "    \n",
    "    return binary_df\n",
    "\n",
    "def split_to_numpy(df, y_column_name):\n",
    "    #print df\n",
    "    #print y_column_name\n",
    "    data_x = df.drop(y_column_name, axis=1).values.astype(np.float32)\n",
    "    data_y = df[y_column_name].values.astype(np.float32)\n",
    "    column_names = df.drop(y_column_name, axis=1).columns\n",
    "    \n",
    "    return data_x, data_y, column_names\n",
    "\n",
    "def split_train_test(df, test_size=0.5, random_state=42, y_column_name='y'):\n",
    "    X = np.asarray(df.drop(y_column_name, axis=1))\n",
    "    y = np.asarray(df[y_column_name]).ravel()\n",
    "    trainX, testX, trainY, testY = cross_validation.train_test_split(X, y, test_size=test_size, random_state=42)\n",
    "    return trainX, testX, trainY, testY"
   ]
  },
  {
   "cell_type": "markdown",
   "metadata": {},
   "source": [
    "### Необходимые функции"
   ]
  },
  {
   "cell_type": "code",
   "execution_count": 8,
   "metadata": {
    "collapsed": false
   },
   "outputs": [],
   "source": [
    "def show_plot(n_est, res, title=\"\", ylabel=\"acc\"):\n",
    "    fig, ax = plt.subplots()\n",
    "    ax.plot(n_est, [res[x][1] for x in n_est], 'ro')\n",
    "#     ax.set_xlim((np.min(n_est) - 10, np.max(n_est) + 10))\n",
    "#     plt.xlabel(\"n_estimators\")\n",
    "#     plt.ylabel(ylabel)\n",
    "#     plt.title(\"Test result\")\n",
    "#     plt.show()\n",
    "    \n",
    "#     fig, ax = plt.subplots()\n",
    "    ax.plot(n_est, [res[x][0] for x in n_est], 'bo')\n",
    "    ax.set_xlim((np.min(n_est) - 10, np.max(n_est) + 10))\n",
    "    plt.xlabel(\"n_estimators\")\n",
    "    plt.ylabel(\"acc\")\n",
    "    plt.title(title)\n",
    "    plt.show()\n",
    "\n",
    "def get_results_dummy_reg(acc=smape_loss_func, verbose=True, strg ='mean', const=None):\n",
    "    results = dict()\n",
    "    reg = DummyRegressor(strategy=strg, constant=const)\n",
    "    reg.fit(trainX, trainY)\n",
    "    predict = reg.predict(testX)\n",
    "    results[1] = (acc(trainY, reg.predict(trainX)), acc(testY, predict))\n",
    "    if verbose:\n",
    "        print(\"Accuracy: \" + str(results[1][1]))\n",
    "    return results\n",
    "\n",
    "def get_results_baggind_rsm(n_est, max_samples, max_features, acc=smape_loss_func, verbose=True):\n",
    "    results = dict()\n",
    "    for i in n_est:\n",
    "        reg = BaggingRegressor(n_estimators=i,\n",
    "                          max_samples=max_samples, max_features=max_features, random_state=1234, n_jobs=-1, verbose=0)\n",
    "        reg.fit(trainX, trainY)\n",
    "#         results[i] = (mse(reg.predict(trainX), trainY), mse(reg.predict(testX), testY))\n",
    "        predict = reg.predict(testX)\n",
    "        results[i] = (acc(trainY, reg.predict(trainX)), acc(testY, predict))\n",
    "        if verbose:\n",
    "            print(\"Count of estimators: \" + str(i) + \", accuracy: \" + str(results[i][1]))\n",
    "    return results\n",
    "\n",
    "def get_results_rf(n_est, oob=False, verbose=True, acc=smape_loss_func):\n",
    "    results = dict()\n",
    "    for i in n_est:\n",
    "        reg = RandomForestRegressor(n_estimators=i, n_jobs=-1, random_state=1234, verbose=0,\n",
    "                                    oob_score=oob, max_features='sqrt')\n",
    "        reg.fit(trainX, trainY)\n",
    "        predict = reg.predict(testX)\n",
    "        if oob:\n",
    "            results[i] = (reg.oob_score_, acc(predict, testY))\n",
    "        else:\n",
    "            results[i] = (acc(trainY, reg.predict(trainX)), acc(testY,predict))\n",
    "        if verbose:\n",
    "            print(\"Count of estimators: \" + str(i) + \", accuracy: \" + str(results[i][1]))\n",
    "    return results\n",
    "\n",
    "def get_results_erte(n_est, verbose=True,acc=smape_loss_func):\n",
    "    results = dict()\n",
    "    for i in n_est:\n",
    "        reg = ExtraTreesRegressor(n_estimators=i, n_jobs=-1, random_state=12, verbose=0)\n",
    "        reg.fit(trainX, trainY)\n",
    "        predict = reg.predict(testX)\n",
    "        results[i] = (acc(trainY,reg.predict(trainX)), acc(predict, testY))\n",
    "        if verbose:\n",
    "            print(\"Count of estimators: \" + str(i) + \", accuracy: \" + str(results[i][1]))\n",
    "    return results\n",
    "\n",
    "def get_results_gbdt(n_est, verbose=True, init=None, acc=smape_loss_func, min_max_filter=True, max_val=1, min_val=0.001):\n",
    "    results = dict()\n",
    "    for i in n_est:\n",
    "        if init is not None:\n",
    "            reg = GradientBoostingRegressor(n_estimators=i, random_state=1234, verbose=0, init=init)\n",
    "        else:\n",
    "            reg = GradientBoostingRegressor(n_estimators=i, random_state=1234, verbose=0)\n",
    "        reg.fit(trainX, trainY)\n",
    "        predict = reg.predict(testX)\n",
    "        if min_max_filter:\n",
    "            predict = np.minimum(np.maximum(predict, min_val),max_val)\n",
    "        results[i] = (acc(trainY, reg.predict(trainX)), acc(testY, predict))\n",
    "        if verbose:\n",
    "            print(\"Count of estimators: \" + str(i) + \", accuracy: \" + str(results[i][1]))    \n",
    "    return results\n",
    "\n",
    "def get_optimal(results):\n",
    "    results = sorted(results, key=lambda x: x[1])"
   ]
  },
  {
   "cell_type": "markdown",
   "metadata": {},
   "source": [
    "### Делим выборку на обучение и контроль"
   ]
  },
  {
   "cell_type": "code",
   "execution_count": 24,
   "metadata": {
    "collapsed": false
   },
   "outputs": [],
   "source": [
    "trainX, testX, trainY, testY = split_train_test(df = num_data, test_size=0.1,  y_column_name='DEMAND')"
   ]
  },
  {
   "cell_type": "markdown",
   "metadata": {},
   "source": [
    "### DummyRegressor\n",
    "* Самый простой классификатор на числовых признаках используется как база для сравнения"
   ]
  },
  {
   "cell_type": "code",
   "execution_count": 28,
   "metadata": {
    "collapsed": false
   },
   "outputs": [
    {
     "name": "stdout",
     "output_type": "stream",
     "text": [
      "Accuracy: 1.24306344718\n",
      "CPU times: user 2.59 ms, sys: 2.56 ms, total: 5.15 ms\n",
      "Wall time: 7.13 ms\n",
      "Accuracy: 1.81014628129\n",
      "CPU times: user 1.78 ms, sys: 251 µs, total: 2.03 ms\n",
      "Wall time: 1.84 ms\n"
     ]
    }
   ],
   "source": [
    "%time results = get_results_dummy_reg()\n",
    "%time results = get_results_dummy_reg(strg='constant', const=0.001)"
   ]
  },
  {
   "cell_type": "markdown",
   "metadata": {},
   "source": [
    "### Bagging and RSM\n",
    "Диапазон для n_est рекомендуется брать небольшим\n",
    "\n",
    "Если трубется изменять дефолтные параметры алгоритма - меняйте код выше"
   ]
  },
  {
   "cell_type": "markdown",
   "metadata": {},
   "source": [
    "** Каким стоит брать размер bootstrap выборки и RSM выборки ** \n",
    "Например: \n",
    "**Bagging:** 0.5 от размера тестовой выборки.\n",
    "\n",
    "**RSM:** 0.5 от размера тестовой выборки."
   ]
  },
  {
   "cell_type": "code",
   "execution_count": 29,
   "metadata": {
    "collapsed": false
   },
   "outputs": [
    {
     "name": "stdout",
     "output_type": "stream",
     "text": [
      "Count of estimators: 10, accuracy: 1.21774274385\n",
      "Count of estimators: 20, accuracy: 1.21305809723\n",
      "Count of estimators: 30, accuracy: 1.21379748214\n",
      "Count of estimators: 40, accuracy: 1.215807349\n",
      "Count of estimators: 50, accuracy: 1.21933236944\n",
      "Count of estimators: 60, accuracy: 1.22203564621\n",
      "Count of estimators: 70, accuracy: 1.22560923922\n",
      "Count of estimators: 80, accuracy: 1.22419567795\n",
      "Count of estimators: 90, accuracy: 1.22222779993\n",
      "Count of estimators: 100, accuracy: 1.22245101935\n",
      "Count of estimators: 110, accuracy: 1.22268253357\n",
      "Count of estimators: 120, accuracy: 1.22276289102\n",
      "Count of estimators: 130, accuracy: 1.22206953169\n",
      "Count of estimators: 140, accuracy: 1.22173368298\n",
      "CPU times: user 9.89 s, sys: 11 s, total: 20.9 s\n",
      "Wall time: 56.1 s\n"
     ]
    },
    {
     "data": {
      "image/png": "[encoded data removed]",
      "text/plain": [
       "<matplotlib.figure.Figure at 0x10d207240>"
      ]
     },
     "metadata": {},
     "output_type": "display_data"
    }
   ],
   "source": [
    "n_est = range(10, 150, 10)\n",
    "%time results = get_results_baggind_rsm(n_est, 0.5, 0.5, verbose=True)\n",
    "show_plot(n_est, results)"
   ]
  },
  {
   "cell_type": "markdown",
   "metadata": {},
   "source": [
    "### Random Forest\n",
    "Диапазон для n_est рекомендуется брать небольшим\n",
    "\n",
    "Если трубется изменять дефолтные параметры алгоритма - меняйте код выше"
   ]
  },
  {
   "cell_type": "code",
   "execution_count": 30,
   "metadata": {
    "collapsed": false
   },
   "outputs": [
    {
     "name": "stdout",
     "output_type": "stream",
     "text": [
      "Count of estimators: 10, accuracy: 1.17131553871\n",
      "Count of estimators: 20, accuracy: 1.2004546997\n",
      "Count of estimators: 30, accuracy: 1.213393472\n",
      "Count of estimators: 40, accuracy: 1.21507762233\n",
      "Count of estimators: 50, accuracy: 1.21735404006\n",
      "Count of estimators: 60, accuracy: 1.22076706273\n",
      "Count of estimators: 70, accuracy: 1.22179058141\n",
      "Count of estimators: 80, accuracy: 1.22103911739\n",
      "Count of estimators: 90, accuracy: 1.22188767884\n",
      "Count of estimators: 100, accuracy: 1.22136453923\n",
      "Count of estimators: 110, accuracy: 1.22200476955\n",
      "Count of estimators: 120, accuracy: 1.22354990285\n",
      "Count of estimators: 130, accuracy: 1.2224354836\n",
      "Count of estimators: 140, accuracy: 1.22302627025\n",
      "CPU times: user 1min 48s, sys: 4.14 s, total: 1min 52s\n",
      "Wall time: 24.8 s\n"
     ]
    },
    {
     "data": {
      "image/png": "[encoded data removed]",
      "text/plain": [
       "<matplotlib.figure.Figure at 0x10d2d55c0>"
      ]
     },
     "metadata": {},
     "output_type": "display_data"
    }
   ],
   "source": [
    "n_est = range(10, 150, 10)\n",
    "%time results = get_results_rf(n_est)\n",
    "show_plot(n_est, results)"
   ]
  },
  {
   "cell_type": "markdown",
   "metadata": {},
   "source": [
    "### Extremely Randomized Trees Ensemble\n",
    "Диапазон для n_est рекомендуется брать небольшим\n",
    "\n",
    "Если трубется изменять дефолтные параметры алгоритма - меняйте код выше"
   ]
  },
  {
   "cell_type": "code",
   "execution_count": 33,
   "metadata": {
    "collapsed": false
   },
   "outputs": [
    {
     "name": "stdout",
     "output_type": "stream",
     "text": [
      "Count of estimators: 10, accuracy: 1.12091976304\n",
      "Count of estimators: 20, accuracy: 1.17790010277\n",
      "Count of estimators: 30, accuracy: 1.19418458165\n",
      "Count of estimators: 40, accuracy: 1.20623607293\n",
      "Count of estimators: 50, accuracy: 1.21183587383\n",
      "Count of estimators: 60, accuracy: 1.21498340796\n",
      "Count of estimators: 70, accuracy: 1.21925564396\n",
      "Count of estimators: 80, accuracy: 1.22061792864\n",
      "Count of estimators: 90, accuracy: 1.2215958102\n",
      "Count of estimators: 100, accuracy: 1.22307515192\n",
      "Count of estimators: 110, accuracy: 1.22279120412\n",
      "Count of estimators: 120, accuracy: 1.22325376995\n",
      "Count of estimators: 130, accuracy: 1.22321926016\n",
      "Count of estimators: 140, accuracy: 1.22423500934\n",
      "CPU times: user 2min 58s, sys: 6.6 s, total: 3min 5s\n",
      "Wall time: 38.7 s\n"
     ]
    },
    {
     "data": {
      "image/png": "[encoded data removed]",
      "text/plain": [
       "<matplotlib.figure.Figure at 0x1065d48d0>"
      ]
     },
     "metadata": {},
     "output_type": "display_data"
    }
   ],
   "source": [
    "n_est = range(10, 150, 10)\n",
    "%time results = get_results_erte(n_est)\n",
    "show_plot(n_est, results)"
   ]
  },
  {
   "cell_type": "markdown",
   "metadata": {},
   "source": [
    "## Gradient Boosted Decision Trees\n",
    "Диапазон для n_est рекомендуется брать небольшим\n",
    "\n",
    "Если трубется изменять дефолтные параметры алгоритма - меняйте код выше"
   ]
  },
  {
   "cell_type": "code",
   "execution_count": 34,
   "metadata": {
    "collapsed": false
   },
   "outputs": [
    {
     "name": "stdout",
     "output_type": "stream",
     "text": [
      "Count of estimators: 10, accuracy: 1.2304547461\n",
      "Count of estimators: 20, accuracy: 1.22779720184\n",
      "Count of estimators: 30, accuracy: 1.22706365229\n",
      "Count of estimators: 40, accuracy: 1.22345469839\n",
      "Count of estimators: 50, accuracy: 1.22399131853\n",
      "Count of estimators: 60, accuracy: 1.22460004627\n",
      "Count of estimators: 70, accuracy: 1.22345641658\n",
      "Count of estimators: 80, accuracy: 1.22109049627\n",
      "Count of estimators: 90, accuracy: 1.22276717505\n",
      "Count of estimators: 100, accuracy: 1.22402149904\n",
      "Count of estimators: 110, accuracy: 1.22424030573\n",
      "Count of estimators: 120, accuracy: 1.22514145741\n",
      "Count of estimators: 130, accuracy: 1.22448663262\n",
      "Count of estimators: 140, accuracy: 1.22513444298\n",
      "CPU times: user 27.1 s, sys: 240 ms, total: 27.4 s\n",
      "Wall time: 28.3 s\n"
     ]
    },
    {
     "data": {
      "image/png": "[encoded data removed]",
      "text/plain": [
       "<matplotlib.figure.Figure at 0x1065dbb38>"
      ]
     },
     "metadata": {},
     "output_type": "display_data"
    }
   ],
   "source": [
    "n_est = range(10, 150, 10)\n",
    "%time results = get_results_gbdt(n_est)\n",
    "show_plot(n_est, results)"
   ]
  },
  {
   "cell_type": "markdown",
   "metadata": {},
   "source": [
    "### Вывод\n",
    "Переобучаются ExtraDT, остальные методы показывают результаты на одном уровне (в пределах погрешности).\n",
    "\n",
    "Для RF и Baggin+RSM оптимальные значения кол-ва близко к 20.\n",
    "\n",
    "Для GBDT оптимальное количество алгоритмов находится в районе 50."
   ]
  },
  {
   "cell_type": "markdown",
   "metadata": {},
   "source": [
    "**Вопрос: Дайте интепретацию полученным результатам в вашем случае.**\n",
    "\n",
    "Bagging и Boosting дают примерно одинаковые результаты: нужно работать как над уменьшением смещения, так и разброса.\n",
    "Видимо, ..."
   ]
  },
  {
   "cell_type": "markdown",
   "metadata": {},
   "source": [
    "## Использование категориальных признаков (1 балл)\n",
    "* Проведите аналогичный экспермент при наличии категориальных признаков"
   ]
  },
  {
   "cell_type": "markdown",
   "metadata": {},
   "source": [
    "### Обучение и Контроль"
   ]
  },
  {
   "cell_type": "code",
   "execution_count": 35,
   "metadata": {
    "collapsed": false
   },
   "outputs": [
    {
     "data": {
      "text/plain": [
       "Index(['MODEL_BRAND', 'MODEL_DIAG_TYPE', 'MODEL_NAME', 'MODEL_OS',\n",
       "       'MODEL_RES_TYPE', 'MODEL_TYPE', 'STORE_BRAND_ABC',\n",
       "       'STORE_BUILDING_TYPE', 'STORE_CITY', 'STORE_CLUSTER', 'STORE_DIAG_ABC',\n",
       "       'STORE_FORMAT', 'STORE_OPEN_DTTM', 'STORE_PRICE_TYPE', 'STORE_REGION',\n",
       "       'STORE_RES_ABC'],\n",
       "      dtype='object')"
      ]
     },
     "execution_count": 35,
     "metadata": {},
     "output_type": "execute_result"
    }
   ],
   "source": [
    "Categorical_columns"
   ]
  },
  {
   "cell_type": "code",
   "execution_count": 41,
   "metadata": {
    "collapsed": false
   },
   "outputs": [
    {
     "name": "stdout",
     "output_type": "stream",
     "text": [
      "(40000, 862)\n"
     ]
    }
   ],
   "source": [
    "# Для обучения используются полезные категориальные признаки\n",
    "bin_data = get_binarized_data(data, Categorical_columns_use)\n",
    "print(bin_data.shape)"
   ]
  },
  {
   "cell_type": "markdown",
   "metadata": {},
   "source": [
    "##### Исключаем лишние произнаки, заменяем NaN"
   ]
  },
  {
   "cell_type": "code",
   "execution_count": null,
   "metadata": {
    "collapsed": true
   },
   "outputs": [],
   "source": [
    "# Удаляем лишние категоримальные признаки\n",
    "bin_data.drop(Cathegorical_columns[лишние категориальные признаки], axis = 1, inplace=True)"
   ]
  },
  {
   "cell_type": "code",
   "execution_count": null,
   "metadata": {
    "collapsed": true
   },
   "outputs": [],
   "source": [
    "# Удаляем лишние числвые признаки признаки\n",
    "bin_data = bin_data.drop([лишние числовые признаки], axis = 1, inplace = True)"
   ]
  },
  {
   "cell_type": "code",
   "execution_count": 42,
   "metadata": {
    "collapsed": true
   },
   "outputs": [],
   "source": [
    "# Заменяем NaN\n",
    "bin_data.fillna(-10, inplace = True)"
   ]
  },
  {
   "cell_type": "code",
   "execution_count": 38,
   "metadata": {
    "collapsed": false
   },
   "outputs": [],
   "source": [
    "# Делим выборку на обучение и контроль\n",
    "trainX, testX, trainY, testY = split_train_test(df = bin_data, test_size=0.1,  y_column_name='DEMAND')"
   ]
  },
  {
   "cell_type": "markdown",
   "metadata": {},
   "source": [
    "### Bagging and RSM\n",
    "Диапазон для n_est рекомендуется брать небольшим\n",
    "\n",
    "Если трубется изменять дефолтные параметры алгоритма - меняйте код выше"
   ]
  },
  {
   "cell_type": "code",
   "execution_count": 39,
   "metadata": {
    "collapsed": false
   },
   "outputs": [
    {
     "name": "stdout",
     "output_type": "stream",
     "text": [
      "Count of estimators: 10, accuracy: 1.0819666035\n",
      "Count of estimators: 20, accuracy: 1.13384647065\n",
      "Count of estimators: 30, accuracy: 1.14532512673\n",
      "Count of estimators: 40, accuracy: 1.15993251746\n",
      "Count of estimators: 50, accuracy: 1.16286004628\n",
      "Count of estimators: 60, accuracy: 1.16576857489\n",
      "Count of estimators: 70, accuracy: 1.1675167683\n",
      "Count of estimators: 80, accuracy: 1.16750631787\n",
      "Count of estimators: 90, accuracy: 1.16866470677\n",
      "Count of estimators: 100, accuracy: 1.16923131256\n",
      "Count of estimators: 110, accuracy: 1.16981161681\n",
      "Count of estimators: 120, accuracy: 1.17007252889\n",
      "Count of estimators: 130, accuracy: 1.17042540313\n",
      "Count of estimators: 140, accuracy: 1.1716621172\n",
      "CPU times: user 2min, sys: 32.1 s, total: 2min 32s\n",
      "Wall time: 36min 15s\n"
     ]
    },
    {
     "data": {
      "image/png": "[encoded data removed]",
      "text/plain": [
       "<matplotlib.figure.Figure at 0x10cf45240>"
      ]
     },
     "metadata": {},
     "output_type": "display_data"
    }
   ],
   "source": [
    "n_est = range(10, 150, 10)\n",
    "%time results = get_results_baggind_rsm(n_est, 0.9, 0.9, verbose=True)\n",
    "show_plot(n_est, results)"
   ]
  },
  {
   "cell_type": "markdown",
   "metadata": {},
   "source": [
    "### Random Forest\n",
    "Диапазон для n_est рекомендуется брать небольшим\n",
    "\n",
    "Если трубется изменять дефолтные параметры алгоритма - меняйте код выше"
   ]
  },
  {
   "cell_type": "code",
   "execution_count": 40,
   "metadata": {
    "collapsed": false
   },
   "outputs": [
    {
     "name": "stdout",
     "output_type": "stream",
     "text": [
      "Count of estimators: 10, accuracy: 1.16663317816\n",
      "Count of estimators: 20, accuracy: 1.18729582109\n",
      "Count of estimators: 30, accuracy: 1.19034674695\n",
      "Count of estimators: 40, accuracy: 1.19024177955\n",
      "Count of estimators: 50, accuracy: 1.18965316542\n",
      "Count of estimators: 60, accuracy: 1.19021693407\n",
      "Count of estimators: 70, accuracy: 1.18773486785\n",
      "Count of estimators: 80, accuracy: 1.18672116121\n",
      "Count of estimators: 90, accuracy: 1.18731124445\n",
      "Count of estimators: 100, accuracy: 1.1868946463\n",
      "Count of estimators: 110, accuracy: 1.18577304682\n",
      "Count of estimators: 120, accuracy: 1.18572512785\n",
      "Count of estimators: 130, accuracy: 1.18563042307\n",
      "Count of estimators: 140, accuracy: 1.18484796258\n",
      "CPU times: user 9min 27s, sys: 10.4 s, total: 9min 37s\n",
      "Wall time: 2min 3s\n"
     ]
    },
    {
     "data": {
      "image/png": "[encoded data removed]",
      "text/plain": [
       "<matplotlib.figure.Figure at 0x10884ecf8>"
      ]
     },
     "metadata": {},
     "output_type": "display_data"
    }
   ],
   "source": [
    "n_est = range(10, 150, 10)\n",
    "%time results = get_results_rf(n_est)\n",
    "show_plot(n_est, results)"
   ]
  },
  {
   "cell_type": "markdown",
   "metadata": {},
   "source": [
    "### Extremely Randomized Trees Ensemble\n",
    "Диапазон для n_est рекомендуется брать небольшим\n",
    "\n",
    "Если трубется изменять дефолтные параметры алгоритма - меняйте код выше"
   ]
  },
  {
   "cell_type": "code",
   "execution_count": 42,
   "metadata": {
    "collapsed": false
   },
   "outputs": [
    {
     "name": "stdout",
     "output_type": "stream",
     "text": [
      "Count of estimators: 10, accuracy: 0.935613812301\n",
      "Count of estimators: 20, accuracy: 0.984874719669\n",
      "Count of estimators: 30, accuracy: 1.01058134742\n",
      "Count of estimators: 40, accuracy: 1.02047745375\n",
      "Count of estimators: 50, accuracy: 1.03769603514\n",
      "Count of estimators: 60, accuracy: 1.0417916613\n",
      "Count of estimators: 70, accuracy: 1.0464839165\n",
      "Count of estimators: 80, accuracy: 1.0520644733\n",
      "Count of estimators: 90, accuracy: 1.05417616405\n",
      "Count of estimators: 100, accuracy: 1.05824511029\n",
      "Count of estimators: 110, accuracy: 1.06241073089\n",
      "Count of estimators: 120, accuracy: 1.06278250213\n",
      "Count of estimators: 130, accuracy: 1.06369863375\n",
      "Count of estimators: 140, accuracy: 1.06455165276\n",
      "CPU times: user 7h 2min 40s, sys: 2min 4s, total: 7h 4min 45s\n",
      "Wall time: 1h 23min 48s\n"
     ]
    },
    {
     "data": {
      "image/png": "[encoded data removed]",
      "text/plain": [
       "<matplotlib.figure.Figure at 0x106603208>"
      ]
     },
     "metadata": {},
     "output_type": "display_data"
    }
   ],
   "source": [
    "n_est = range(10, 150, 10)\n",
    "%time results = get_results_erte(n_est)\n",
    "show_plot(n_est, results)"
   ]
  },
  {
   "cell_type": "markdown",
   "metadata": {},
   "source": [
    "### Gradient Boosted Decision Trees\n",
    "Диапазон для n_est рекомендуется брать небольшим\n",
    "\n",
    "Если трубется изменять дефолтные параметры алгоритма - меняйте код выше"
   ]
  },
  {
   "cell_type": "code",
   "execution_count": 41,
   "metadata": {
    "collapsed": false
   },
   "outputs": [
    {
     "name": "stdout",
     "output_type": "stream",
     "text": [
      "Count of estimators: 10, accuracy: 1.23769299312\n",
      "Count of estimators: 20, accuracy: 1.23221363395\n",
      "Count of estimators: 30, accuracy: 1.22520704128\n",
      "Count of estimators: 40, accuracy: 1.22264353343\n",
      "Count of estimators: 50, accuracy: 1.22126849828\n",
      "Count of estimators: 60, accuracy: 1.2186660362\n",
      "Count of estimators: 70, accuracy: 1.21685503498\n",
      "Count of estimators: 80, accuracy: 1.21454507849\n",
      "Count of estimators: 90, accuracy: 1.21364591048\n",
      "Count of estimators: 100, accuracy: 1.21297652818\n",
      "Count of estimators: 110, accuracy: 1.21203754292\n",
      "Count of estimators: 120, accuracy: 1.21245308023\n",
      "Count of estimators: 130, accuracy: 1.21355261323\n",
      "Count of estimators: 140, accuracy: 1.21263777128\n",
      "CPU times: user 31min 12s, sys: 17.5 s, total: 31min 29s\n",
      "Wall time: 33min 8s\n"
     ]
    },
    {
     "data": {
      "image/png": "[encoded data removed]",
      "text/plain": [
       "<matplotlib.figure.Figure at 0x1066df208>"
      ]
     },
     "metadata": {},
     "output_type": "display_data"
    }
   ],
   "source": [
    "n_est = range(10, 150, 10)\n",
    "%time results = get_results_gbdt(n_est)\n",
    "show_plot(n_est, results)"
   ]
  },
  {
   "cell_type": "markdown",
   "metadata": {},
   "source": [
    "### Вывод"
   ]
  },
  {
   "cell_type": "markdown",
   "metadata": {},
   "source": [
    "**Вопрос: Дайте интепретацию полученным результатам в вашем случае.**"
   ]
  },
  {
   "cell_type": "markdown",
   "metadata": {},
   "source": [
    "## Другие модели и генерация дополнительных признаков (2 балла)"
   ]
  },
  {
   "cell_type": "markdown",
   "metadata": {},
   "source": [
    "* На основании сделанных выводов, предложите другой вариант алгоритма ML, который должен показать лучший результат\n",
    "* Направляния:\n",
    "    -- использовать принципиально другое семейство алгоритмов (NN, GB+kNN, LinearRegression, композиция Baggin и GBDT)\n",
    "    -- исключить бесполезные фичи из обучающей выборки (полезность фич проанализировать с помощью RF);\n",
    "    -- исключить фичи, в которых есть NaN; сделать восстановление NaN более интеллектуально;\n",
    "    -- преобразовать катеориальные признаки так, чтобы получились числовые."
   ]
  },
  {
   "cell_type": "markdown",
   "metadata": {},
   "source": [
    "### Вывод"
   ]
  },
  {
   "cell_type": "markdown",
   "metadata": {},
   "source": [
    "## Отправка результатов в контест на Kaggle (оценивается по результатам в Leaderboard)"
   ]
  },
  {
   "cell_type": "code",
   "execution_count": 43,
   "metadata": {
    "collapsed": false
   },
   "outputs": [],
   "source": [
    "test = pd.read_csv('./data/test.csv', sep=';',decimal= '.', index_col='ID')"
   ]
  },
  {
   "cell_type": "code",
   "execution_count": 44,
   "metadata": {
    "collapsed": false
   },
   "outputs": [],
   "source": [
    "# Предобработка тестовой выборки (добавляем\\удаляем признаки, предобработка NaN и пр.)\n",
    "test_data = get_binarized_data(test, Categorical_columns)"
   ]
  },
  {
   "cell_type": "code",
   "execution_count": 45,
   "metadata": {
    "collapsed": false
   },
   "outputs": [],
   "source": [
    "# Все отсутствующие в тестовой выборке столбцы полагаем 0\n",
    "add_columns = bin_data.columns[1:].difference(test_data.columns)\n",
    "test_data = pd.merge(test_data, bin_data.ix[test_data.index][add_columns], how='inner', left_index=True, right_index=True)\n",
    "test_data[add_columns]=0\n",
    "\n",
    "# Оставляем только столбцы обучающей выборки (целевая переменная в обучающей выборке отсутствует)\n",
    "test_data = test_data[bin_data.columns[1:]]"
   ]
  },
  {
   "cell_type": "code",
   "execution_count": 46,
   "metadata": {
    "collapsed": false
   },
   "outputs": [],
   "source": [
    "test_data.fillna(-10, inplace=True)"
   ]
  },
  {
   "cell_type": "code",
   "execution_count": 47,
   "metadata": {
    "collapsed": false
   },
   "outputs": [],
   "source": [
    "# Обучающая выборка\n",
    "trainX, _, trainY, _ = split_train_test(df = bin_data, test_size=0,  y_column_name='DEMAND')"
   ]
  },
  {
   "cell_type": "code",
   "execution_count": 48,
   "metadata": {
    "collapsed": false
   },
   "outputs": [
    {
     "data": {
      "text/plain": [
       "ExtraTreesRegressor(bootstrap=False, criterion='mse', max_depth=None,\n",
       "          max_features='auto', max_leaf_nodes=None, min_samples_leaf=1,\n",
       "          min_samples_split=2, min_weight_fraction_leaf=0.0,\n",
       "          n_estimators=1, n_jobs=1, oob_score=False, random_state=None,\n",
       "          verbose=0, warm_start=False)"
      ]
     },
     "execution_count": 48,
     "metadata": {},
     "output_type": "execute_result"
    }
   ],
   "source": [
    "# Обучаем финальный алгоритм\n",
    "final_regressor = ExtraTreesRegressor(n_estimators=1)\n",
    "final_regressor.fit(trainX, trainY)"
   ]
  },
  {
   "cell_type": "code",
   "execution_count": 49,
   "metadata": {
    "collapsed": false
   },
   "outputs": [],
   "source": [
    "# Предсказание интенсивности\n",
    "test_predict = final_regressor.predict(np.asarray(test_data))"
   ]
  },
  {
   "cell_type": "code",
   "execution_count": 50,
   "metadata": {
    "collapsed": false
   },
   "outputs": [],
   "source": [
    "# Сохраняем в csv-файл\n",
    "test['DEMAND'] = test_predict\n",
    "test[['DEMAND']].to_csv('./result/submission_gbdt_2.csv', sep = ',', index = True)"
   ]
  }
 ],
 "metadata": {
  "anaconda-cloud": {},
  "kernelspec": {
   "display_name": "Python 3 Conda",
   "language": "python",
   "name": "py3_conda"
  },
  "language_info": {
   "codemirror_mode": {
    "name": "ipython",
    "version": 3
   },
   "file_extension": ".py",
   "mimetype": "text/x-python",
   "name": "python",
   "nbconvert_exporter": "python",
   "pygments_lexer": "ipython3",
   "version": "3.5.2"
  }
 },
 "nbformat": 4,
 "nbformat_minor": 0
}
