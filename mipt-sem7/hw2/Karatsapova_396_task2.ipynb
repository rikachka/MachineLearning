{
 "cells": [
  {
   "cell_type": "markdown",
   "metadata": {},
   "source": [
    "Карацапова Ирина, 396"
   ]
  },
  {
   "cell_type": "markdown",
   "metadata": {},
   "source": [
    "<h1 align=\"center\">Check Questions</h1> "
   ]
  },
  {
   "cell_type": "markdown",
   "metadata": {},
   "source": [
    "Ответе на вопросы своими словами (загугленный материал надо пересказать), ответ обоснуйте (напишите и ОБЪЯСНИТЕ формулки если потребуется), если не выходит, то вернитесь к лекции дополнительным материалам:\n",
    "\n",
    "**Вопрос 1**: Чем отличается AdaBoost от XGBoost? Перечислите принципиальные отличия. \n",
    "\n",
    "XGBoost менее склонен к переобучению за счет того, что добавляются штрафы за количество листьев и норму коэффициентов. Он приближает направление, посчитанное с учетом второй, а не первой производной функции потерь. AdaBoost менее устойчив к выбросам.\n",
    "\n",
    "**Вопрос 2**: Почему говорят, что AdaBoost неустойчив к выбросам?\n",
    "\n",
    "Алгоритм стремится максимально исправить ошибки на обучении на каждой своей итерации. Но это бессмысленное занятие при наличие выбросов и ведет лишь к переобучению\n",
    "\n",
    "**Вопрос 3**:  В каком пространстве градиентный бустинг совершает градиентный спуск? Какова размерность этого пространства?\n",
    "\n",
    "Градиентный бустинг совершает градиентный спуск в пространстве всех возможных алгоритмов.\n",
    "\n",
    "**Вопрос 4**: В чем заключается сокращение шага в градиентном бустинге? Как число итераций, необходимое для сходимости, зависит от размера шага η?\n",
    "\n",
    "Сокращение шага уменьшает склонность к переобучению, заключается в том, как сильно учитывается каждое новое слагаемое. Чем меньше размер шага, тем больше нужно число итераций.\n",
    "\n",
    "**Вопрос 5**: Что такое стохастический градиентный бустинг?\n",
    "\n",
    "Это градиентный бустинг, где на каждом шаге алгоритма новое слагаемое считается, опираясь на случайную подвыборку объектов и/или признаков.\n",
    "\n",
    "-----------\n",
    "PS: Если проверяющий не понял ответ на большинство вопросов, то будет пичалька. Пишите так, чтобы можно было разобраться. "
   ]
  },
  {
   "cell_type": "markdown",
   "metadata": {
    "collapsed": true
   },
   "source": [
    "<h1 align=\"center\">Boosting</h1> "
   ]
  },
  {
   "cell_type": "markdown",
   "metadata": {
    "collapsed": true
   },
   "source": [
    "1) Задача 1 \n",
    "![](./img/task11.png)\n",
    "![](./img/task12.png)\n",
    "\n",
    "Можно взять алгоритмы, такие что каждый из них будет классифицировать один объект (выдавать ответ 1 или -1), а на всех остальных выдавать 0. При этом коэффициент взять равным 1. Таким образом, понадобится l алгоритмов.\n",
    "\n",
    "2) Найдите градиент логистичиской функции потерь для фиксированного объекта\n",
    "\n",
    "![](./img/answer_1_1.png)\n",
    "![](./img/answer_1_2.png)"
   ]
  },
  {
   "cell_type": "markdown",
   "metadata": {},
   "source": [
    "<h1 align=\"center\">Binary Boosting Implementation</h1> "
   ]
  },
  {
   "cell_type": "markdown",
   "metadata": {},
   "source": [
    "Нужно реализовать двухклассовый бустинг с логистичиской функцией потерь. \n",
    "\n",
    "Длину шага -- или используйте $1.0*lr$ или подбирайте одномерной оптимизацией;"
   ]
  },
  {
   "cell_type": "code",
   "execution_count": 1,
   "metadata": {
    "collapsed": false
   },
   "outputs": [
    {
     "name": "stdout",
     "output_type": "stream",
     "text": [
      "Populating the interactive namespace from numpy and matplotlib\n"
     ]
    }
   ],
   "source": [
    "%pylab inline\n",
    "\n",
    "import warnings\n",
    "import numpy as np\n",
    "import pandas as pd\n",
    "from copy import deepcopy\n",
    "from utils2 import plot_surface\n",
    "from sklearn.tree import DecisionTreeRegressor\n",
    "from sklearn.cross_validation import cross_val_score\n",
    "from sklearn.base import ClassifierMixin, BaseEstimator\n",
    "from sklearn.ensemble import GradientBoostingClassifier\n",
    "from sklearn.metrics import accuracy_score\n",
    "from sklearn.cross_validation import cross_val_score\n",
    "\n",
    "warnings.simplefilter(\"ignore\")"
   ]
  },
  {
   "cell_type": "code",
   "execution_count": 2,
   "metadata": {
    "collapsed": false
   },
   "outputs": [],
   "source": [
    "class BinaryBoostingClassifier(BaseEstimator, ClassifierMixin):\n",
    "    def __init__(self, n_estimators=100, base_estimator=DecisionTreeRegressor(min_samples_leaf=5, max_depth=5), lr=0.1):\n",
    "        self.lr = lr   \n",
    "        self.n_estimators = n_estimators\n",
    "        self.base_estimator = base_estimator\n",
    "    \n",
    "    def loss_grad(self, original_y, pred_y):\n",
    "        grad = np.zeros(len(original_y))\n",
    "        grad = original_y / (1 + exp(original_y * pred_y))\n",
    "#         grad = log(1 + exp(-original_y * pred_y))\n",
    "        return grad # Градиент на кажом объекте\n",
    "        \n",
    "    def fit(self, X, original_y):\n",
    "        # Храните базовые алгоритмы тут\n",
    "        self.estimators_ = [] \n",
    "        \n",
    "        for i in range(self.n_estimators):\n",
    "            grad = self.loss_grad(original_y, self._predict(X))\n",
    "            # Настройте базовый алгоритм на градиент, это классификация или регрессия?\n",
    "            estimator = deepcopy(self.base_estimator) \n",
    "            self.estimators_.append(estimator.fit(X, grad))\n",
    "        \n",
    "        self.out_ = self.outliers(grad)\n",
    "\n",
    "        return self\n",
    "\n",
    "    def _predict(self, X):\n",
    "        y_pred = np.zeros(X.shape[0])\n",
    "        for estimator in self.estimators_:\n",
    "            y_pred = y_pred + self.lr * estimator.predict(X)\n",
    "        return y_pred\n",
    "    \n",
    "    def predict(self, X):\n",
    "        y_pred = self._predict(X)\n",
    "        y_pred = np.array(list(map(lambda x: -1.0 if x < 0 else 1.0, y_pred)))\n",
    "        return y_pred\n",
    "#         y_pred = <примените к self._predict решающее правило>\n",
    "#         return y_pred\n",
    "    \n",
    "    def outliers(self, grad):\n",
    "        abs_grad = abs(grad)\n",
    "        return abs_grad.argsort()[-10:][::-1]\n",
    "#         return # Топ-10 объектов с большим отступом"
   ]
  },
  {
   "cell_type": "markdown",
   "metadata": {},
   "source": [
    "<h1 align=\"center\">Simple test</h1> "
   ]
  },
  {
   "cell_type": "code",
   "execution_count": 84,
   "metadata": {
    "collapsed": false
   },
   "outputs": [],
   "source": [
    "import matplotlib.pyplot as plt\n",
    "from sklearn.datasets import make_classification\n",
    "\n",
    "X, y = make_classification(n_samples=500, n_features=2,\n",
    "                           n_informative=2, n_redundant=0, n_repeated=0,\n",
    "                           n_classes=2, n_clusters_per_class=2,\n",
    "                           flip_y=0.05, class_sep=0.8, random_state=241)\n",
    "y = 2*(y-0.5)"
   ]
  },
  {
   "cell_type": "code",
   "execution_count": 85,
   "metadata": {
    "collapsed": false
   },
   "outputs": [],
   "source": [
    "# print(X)\n",
    "train_size = int(len(X) * 0.7)\n",
    "test_size = len(X) - train_size\n",
    "X_train, y_train, X_test, y_test = X[:train_size], y[:train_size], X[train_size:], y[train_size:]"
   ]
  },
  {
   "cell_type": "code",
   "execution_count": 98,
   "metadata": {
    "collapsed": false
   },
   "outputs": [
    {
     "name": "stdout",
     "output_type": "stream",
     "text": [
      "0.922857142857 0.76\n"
     ]
    },
    {
     "data": {
      "image/png": "[encoded data removed]",
      "text/plain": [
       "<matplotlib.figure.Figure at 0x122ae6860>"
      ]
     },
     "metadata": {},
     "output_type": "display_data"
    }
   ],
   "source": [
    "clf = BinaryBoostingClassifier().fit(X_train, y_train)\n",
    "print(accuracy_score(clf.predict(X_train), y_train), accuracy_score(clf.predict(X_test), y_test))\n",
    "plot_surface(X, y, clf)"
   ]
  },
  {
   "cell_type": "markdown",
   "metadata": {
    "collapsed": true
   },
   "source": [
    "<h1 align=\"center\">Outliers</h1> "
   ]
  },
  {
   "cell_type": "code",
   "execution_count": 21,
   "metadata": {
    "collapsed": false
   },
   "outputs": [
    {
     "data": {
      "image/png": "[encoded data removed]",
      "text/plain": [
       "<matplotlib.figure.Figure at 0x112167128>"
      ]
     },
     "metadata": {},
     "output_type": "display_data"
    }
   ],
   "source": [
    "# <Нарисуйте только outliers> \n",
    "plot_surface(X[clf.out_], y[clf.out_], clf)"
   ]
  },
  {
   "cell_type": "markdown",
   "metadata": {},
   "source": [
    "<h1 align=\"center\">Adult test</h1> "
   ]
  },
  {
   "cell_type": "code",
   "execution_count": null,
   "metadata": {
    "collapsed": false
   },
   "outputs": [],
   "source": [
    "!sh ./get_data.sh"
   ]
  },
  {
   "cell_type": "code",
   "execution_count": 25,
   "metadata": {
    "collapsed": false
   },
   "outputs": [],
   "source": [
    "adult = pd.read_csv(\n",
    "    './data/adult.data', \n",
    "    names=[\n",
    "        \"Age\", \"Workclass\", \"fnlwgt\", \"Education\", \"Education-Num\", \"Martial Status\",\n",
    "        \"Occupation\", \"Relationship\", \"Race\", \"Sex\", \"Capital Gain\", \"Capital Loss\",\n",
    "        \"Hours per week\", \"Country\", \"Target\"], \n",
    "    header=None, na_values=\"?\")\n",
    "adult = pd.get_dummies(adult)\n",
    "adult[\"Target\"] = adult[\"Target_ >50K\"]"
   ]
  },
  {
   "cell_type": "code",
   "execution_count": 26,
   "metadata": {
    "collapsed": true
   },
   "outputs": [],
   "source": [
    "X, y = adult[adult.columns[:-3]].values, adult[adult.columns[-1]].values\n",
    "y = 2*(y-0.5)"
   ]
  },
  {
   "cell_type": "code",
   "execution_count": 27,
   "metadata": {
    "collapsed": true
   },
   "outputs": [],
   "source": [
    "train_size = int(len(X) * 0.7)\n",
    "test_size = len(X) - train_size\n",
    "X_train, y_train, X_test, y_test = X[:train_size], y[:train_size], X[train_size:], y[train_size:]"
   ]
  },
  {
   "cell_type": "code",
   "execution_count": 10,
   "metadata": {
    "collapsed": false
   },
   "outputs": [
    {
     "name": "stdout",
     "output_type": "stream",
     "text": [
      "0.861793611794 0.861705394616\n",
      "0.868857493857 0.868563824342\n"
     ]
    }
   ],
   "source": [
    "# <Сверьте качество своего алгоритма с GradientBoostingClassifier>\n",
    "clf = BinaryBoostingClassifier().fit(X_train, y_train)\n",
    "print(accuracy_score(clf.predict(X_train), y_train), accuracy_score(clf.predict(X_test), y_test))\n",
    "clf_grad = GradientBoostingClassifier().fit(X_train, y_train)\n",
    "print(accuracy_score(clf_grad.predict(X_train), y_train), accuracy_score(clf_grad.predict(X_test), y_test))"
   ]
  },
  {
   "cell_type": "markdown",
   "metadata": {},
   "source": [
    "BinaryBoostingClassifier() работает чуть хуже, чем GradientBoostingClassifier()"
   ]
  },
  {
   "cell_type": "markdown",
   "metadata": {},
   "source": [
    "<h1 align=\"center\">Text classification</h1> \n",
    "\n",
    "- Найдите двухклассовый текстовый датасет (в качестве примера sentiment analysis) или возьмите многоклассовый и классифцируйте один клас против остальных\n",
    "- Попробуйте бустинг на решающих деревьях, в качестве фичей используйте tf-idf и svd/random_projection/hashing_trick, что работает лучше? Сравните качество и время работы."
   ]
  },
  {
   "cell_type": "code",
   "execution_count": 3,
   "metadata": {
    "collapsed": true
   },
   "outputs": [],
   "source": [
    "from sklearn.datasets import fetch_20newsgroups\n",
    "from sklearn.feature_extraction.text import TfidfVectorizer\n",
    "\n",
    "newsgroups_train = fetch_20newsgroups(subset='train')\n",
    "newsgroups_test = fetch_20newsgroups(subset='test')"
   ]
  },
  {
   "cell_type": "code",
   "execution_count": 49,
   "metadata": {
    "collapsed": false
   },
   "outputs": [],
   "source": [
    "vectorizer = TfidfVectorizer()\n",
    "X_train_tfidf, y_train_tfidf = vectorizer.fit_transform(newsgroups_train.data), newsgroups_train.target\n",
    "X_test_tfidf,  y_test_tfidf  = vectorizer.transform(newsgroups_test.data), newsgroups_test.target"
   ]
  },
  {
   "cell_type": "code",
   "execution_count": 50,
   "metadata": {
    "collapsed": true
   },
   "outputs": [],
   "source": [
    "max_class = max(y_train_tfidf)\n",
    "min_class = min(y_train_tfidf)\n",
    "class_line = int( (max_class + min_class) / 2)\n",
    "# class_line = int(max_class / 2)\n",
    "y_train = list(map(lambda x: -1 if x < class_line else 1, y_train_tfidf))\n",
    "y_test = list(map(lambda x: -1 if x < class_line else 1, y_test_tfidf))"
   ]
  },
  {
   "cell_type": "markdown",
   "metadata": {},
   "source": [
    "<b> tf-idf + svd"
   ]
  },
  {
   "cell_type": "code",
   "execution_count": 51,
   "metadata": {
    "collapsed": false
   },
   "outputs": [],
   "source": [
    "from sklearn.decomposition import TruncatedSVD\n",
    "\n",
    "svd = TruncatedSVD(n_components=5, random_state=42)\n",
    "X_train = svd.fit_transform(X_train_tfidf)\n",
    "X_test = svd.fit_transform(X_test_tfidf)"
   ]
  },
  {
   "cell_type": "code",
   "execution_count": 52,
   "metadata": {
    "collapsed": false
   },
   "outputs": [
    {
     "name": "stdout",
     "output_type": "stream",
     "text": [
      "0.820399505038 0.687334041423\n",
      "CPU times: user 5.76 s, sys: 13 ms, total: 5.77 s\n",
      "Wall time: 5.79 s\n"
     ]
    }
   ],
   "source": [
    "%%time\n",
    "clf = BinaryBoostingClassifier().fit(X_train, y_train)\n",
    "clf.predict(X_train)\n",
    "print(accuracy_score(clf.predict(X_train), y_train), accuracy_score(clf.predict(X_test), y_test))"
   ]
  },
  {
   "cell_type": "markdown",
   "metadata": {},
   "source": [
    "<b>tf-idf + random_projection"
   ]
  },
  {
   "cell_type": "code",
   "execution_count": 41,
   "metadata": {
    "collapsed": true
   },
   "outputs": [],
   "source": [
    "from sklearn import random_projection\n",
    "\n",
    "transformer = random_projection.SparseRandomProjection()\n",
    "X_train = transformer.fit_transform(X_train_tfidf)\n",
    "X_test = transformer.fit_transform(X_test_tfidf)"
   ]
  },
  {
   "cell_type": "code",
   "execution_count": 42,
   "metadata": {
    "collapsed": false
   },
   "outputs": [],
   "source": [
    "number_train = 400\n",
    "number_test = 100\n",
    "X_test = X_train[number_train : (number_train + number_test)]\n",
    "y_test = y_train[number_train : (number_train + number_test)]\n",
    "X_train = X_train[:number_train]\n",
    "y_train = y_train[:number_train]"
   ]
  },
  {
   "cell_type": "code",
   "execution_count": 46,
   "metadata": {
    "collapsed": false
   },
   "outputs": [
    {
     "name": "stdout",
     "output_type": "stream",
     "text": [
      "1.0 0.76\n",
      "CPU times: user 1min 7s, sys: 2.67 s, total: 1min 10s\n",
      "Wall time: 1min 10s\n"
     ]
    }
   ],
   "source": [
    "%%time\n",
    "clf = BinaryBoostingClassifier().fit(X_train, y_train)\n",
    "clf.predict(X_train)\n",
    "print(accuracy_score(clf.predict(X_train), y_train), accuracy_score(clf.predict(X_test), y_test))"
   ]
  },
  {
   "cell_type": "markdown",
   "metadata": {},
   "source": [
    "<b>tf-idf + hashing_trick"
   ]
  },
  {
   "cell_type": "code",
   "execution_count": 47,
   "metadata": {
    "collapsed": false
   },
   "outputs": [],
   "source": [
    "from sklearn.feature_extraction.text import HashingVectorizer\n",
    "\n",
    "hv = HashingVectorizer()\n",
    "X_train, y_train = hv.fit_transform(newsgroups_train.data), newsgroups_train.target\n",
    "X_test, y_test = hv.transform(newsgroups_test.data), newsgroups_test.target\n",
    "\n",
    "max_class = max(y_train)\n",
    "min_class = min(y_train)\n",
    "class_line = int( (max_class + min_class) / 2)\n",
    "y_train = list(map(lambda x: -1 if x < class_line else 1, y_train))\n",
    "y_test = list(map(lambda x: -1 if x < class_line else 1, y_test))\n",
    "\n",
    "number_train = 400\n",
    "number_test = 100\n",
    "X_train = X_train[:number_train]\n",
    "y_train = y_train[:number_train]\n",
    "X_test = X_test[:number_test]\n",
    "y_test = y_test[:number_test]"
   ]
  },
  {
   "cell_type": "code",
   "execution_count": 48,
   "metadata": {
    "collapsed": false
   },
   "outputs": [
    {
     "name": "stdout",
     "output_type": "stream",
     "text": [
      "0.9725 0.73\n",
      "CPU times: user 1min 6s, sys: 15.5 s, total: 1min 22s\n",
      "Wall time: 1min 22s\n"
     ]
    }
   ],
   "source": [
    "%%time\n",
    "clf = BinaryBoostingClassifier().fit(X_train, y_train)\n",
    "clf.predict(X_train)\n",
    "print(accuracy_score(clf.predict(X_train), y_train), accuracy_score(clf.predict(X_test), y_test))"
   ]
  },
  {
   "cell_type": "markdown",
   "metadata": {},
   "source": [
    "Качество у random_projection и hashing_trick выше, но время во много раз больше (на полных данных не удалось дождаться окончания расчета, пришлось работать с подвыборкой)."
   ]
  },
  {
   "cell_type": "markdown",
   "metadata": {},
   "source": [
    "<h1 align=\"center\">Random Forest vs Boosting</h1> "
   ]
  },
  {
   "cell_type": "markdown",
   "metadata": {
    "collapsed": true
   },
   "source": [
    "Подберите 2+ датасета как минимум большой и маленький (не использованных в этом дз) и проведите сравнение random forest и градиентного бустинга, используйте реализации алгоритмов из библиотеки sklearn.\n",
    "\n",
    "- Опишите результаты, почему тот или другой алгоритм на конкретном датасете работает лучше/хуже?\n",
    "- Как вы настраивали гиперпараметры алгоритмов?\n",
    "- Как вы проверяли качесво алгоритмов?"
   ]
  },
  {
   "cell_type": "markdown",
   "metadata": {},
   "source": [
    "<h2> Titanic"
   ]
  },
  {
   "cell_type": "code",
   "execution_count": 179,
   "metadata": {
    "collapsed": false
   },
   "outputs": [],
   "source": [
    "import numpy as np\n",
    "import pandas as pd\n",
    "from sklearn.preprocessing import LabelEncoder\n",
    "\n",
    "titanic = pd.read_csv('./data/titanic.csv')[['Survived', 'Pclass', 'Sex', 'Age', 'Fare']]\n",
    "\n",
    "sex_encoder = LabelEncoder()\n",
    "titanic.Sex = sex_encoder.fit_transform(titanic.Sex)\n",
    "features = ['Pclass', 'Sex', 'Age', 'Fare']"
   ]
  },
  {
   "cell_type": "code",
   "execution_count": 180,
   "metadata": {
    "collapsed": false
   },
   "outputs": [],
   "source": [
    "X, y = titanic[features].values, titanic.Survived.values\n",
    "X = np.nan_to_num(X)\n",
    "X_train, y_train, X_test, y_test = X[:500], y[:500], X[500:], y[500:]"
   ]
  },
  {
   "cell_type": "markdown",
   "metadata": {},
   "source": [
    "<b>Boosting"
   ]
  },
  {
   "cell_type": "code",
   "execution_count": 181,
   "metadata": {
    "collapsed": false
   },
   "outputs": [
    {
     "name": "stdout",
     "output_type": "stream",
     "text": [
      "0.916 0.818414322251\n"
     ]
    }
   ],
   "source": [
    "from sklearn.ensemble import GradientBoostingClassifier\n",
    "\n",
    "gbc = GradientBoostingClassifier()\n",
    "gbc.fit(X_train, y_train)\n",
    "print(accuracy_score(gbc.predict(X_train), y_train), accuracy_score(gbc.predict(X_test), y_test))"
   ]
  },
  {
   "cell_type": "code",
   "execution_count": 97,
   "metadata": {
    "collapsed": false
   },
   "outputs": [
    {
     "name": "stdout",
     "output_type": "stream",
     "text": [
      "0.05 400\n",
      "0.95 0.831202046036\n",
      "CPU times: user 30.9 s, sys: 84.4 ms, total: 31 s\n",
      "Wall time: 31.1 s\n"
     ]
    }
   ],
   "source": [
    "%%time\n",
    "\n",
    "learning_rates = np.arange(0.01, 0.11, 0.01)\n",
    "n_estimatorss = np.arange(100, 1050, 100)\n",
    "accs = []\n",
    "for learning_rate in learning_rates:\n",
    "    accs_line = []\n",
    "    for n_estimators in n_estimatorss:\n",
    "        try:\n",
    "            gbc = GradientBoostingClassifier(learning_rate = learning_rate, n_estimators = n_estimators)\n",
    "            gbc.fit(X_train, y_train)\n",
    "            acc = accuracy_score(gbc.predict(X_test), y_test)\n",
    "            accs_line.append(int(acc*10000)/10000)\n",
    "        except ValueError:\n",
    "            accs_line.append(0)\n",
    "    accs.append(accs_line)\n",
    "    \n",
    "# for accs_line in accs:\n",
    "#     print(accs_line)\n",
    "\n",
    "accs_learning_rate = [max(accs_line) for accs_line in accs]\n",
    "learning_rate_index = accs_learning_rate.index(max(accs_learning_rate))\n",
    "learning_rate_best = learning_rates[learning_rate_index]\n",
    "\n",
    "accs_n_estimators = accs[learning_rate_index]\n",
    "n_estimators_index = accs_n_estimators.index(max(accs_n_estimators))\n",
    "n_estimators_best = n_estimatorss[n_estimators_index]\n",
    "\n",
    "acc_best = accs[learning_rate_index][n_estimators_index]\n",
    "\n",
    "print(learning_rate_best, n_estimators_best)\n",
    "\n",
    "gbc = GradientBoostingClassifier(learning_rate = learning_rate_best, n_estimators = n_estimators_best)\n",
    "gbc.fit(X_train, y_train)\n",
    "print(accuracy_score(gbc.predict(X_train), y_train), accuracy_score(gbc.predict(X_test), y_test))"
   ]
  },
  {
   "cell_type": "markdown",
   "metadata": {},
   "source": [
    "<b>Random Forest"
   ]
  },
  {
   "cell_type": "code",
   "execution_count": 182,
   "metadata": {
    "collapsed": false
   },
   "outputs": [
    {
     "name": "stdout",
     "output_type": "stream",
     "text": [
      "0.974 0.79283887468\n"
     ]
    }
   ],
   "source": [
    "from sklearn.ensemble import RandomForestClassifier\n",
    "\n",
    "rfc = RandomForestClassifier()\n",
    "rfc.fit(X_train, y_train)\n",
    "print(accuracy_score(rfc.predict(X_train), y_train), accuracy_score(rfc.predict(X_test), y_test))"
   ]
  },
  {
   "cell_type": "code",
   "execution_count": 183,
   "metadata": {
    "collapsed": false
   },
   "outputs": [
    {
     "name": "stdout",
     "output_type": "stream",
     "text": [
      "350\n",
      "0.988 0.800511508951\n"
     ]
    }
   ],
   "source": [
    "n_estimatorss = np.arange(50, 500, 50)\n",
    "accs = []\n",
    "for n_estimators in n_estimatorss:\n",
    "    rfc = RandomForestClassifier(n_estimators = n_estimators)\n",
    "    rfc.fit(X_train, y_train)\n",
    "    acc = accuracy_score(rfc.predict(X_test), y_test)\n",
    "    accs.append(acc)\n",
    "n_estimators_best = n_estimatorss[accs.index(max(accs))]\n",
    "print(n_estimators_best)\n",
    "\n",
    "rfc = RandomForestClassifier(n_estimators = n_estimators_best)\n",
    "rfc.fit(X_train, y_train)\n",
    "print(accuracy_score(rfc.predict(X_train), y_train), accuracy_score(rfc.predict(X_test), y_test))"
   ]
  },
  {
   "cell_type": "markdown",
   "metadata": {},
   "source": [
    "<h2>Credit"
   ]
  },
  {
   "cell_type": "code",
   "execution_count": 184,
   "metadata": {
    "collapsed": false
   },
   "outputs": [
    {
     "name": "stdout",
     "output_type": "stream",
     "text": [
      "39931\n"
     ]
    }
   ],
   "source": [
    "import numpy as np\n",
    "import pandas as pd\n",
    "from sklearn.preprocessing import LabelEncoder\n",
    "\n",
    "credit = pd.read_csv('./data/credit.csv')\n",
    "credit = credit.dropna()\n",
    "\n",
    "X, y = credit.drop('Label', 1), credit['Label']\n",
    "print(len(y))\n",
    "\n",
    "train_size = int(len(X) * 0.7)\n",
    "X_train, y_train, X_test, y_test = X[:train_size], y[:train_size], X[train_size:], y[train_size:]"
   ]
  },
  {
   "cell_type": "markdown",
   "metadata": {},
   "source": [
    "<b>Boosting"
   ]
  },
  {
   "cell_type": "code",
   "execution_count": 185,
   "metadata": {
    "collapsed": false
   },
   "outputs": [
    {
     "name": "stdout",
     "output_type": "stream",
     "text": [
      "0.938821509069 0.910350584307\n"
     ]
    }
   ],
   "source": [
    "from sklearn.ensemble import GradientBoostingClassifier\n",
    "\n",
    "gbc = GradientBoostingClassifier()\n",
    "gbc.fit(X_train, y_train)\n",
    "print(accuracy_score(gbc.predict(X_train), y_train), accuracy_score(gbc.predict(X_test), y_test))"
   ]
  },
  {
   "cell_type": "code",
   "execution_count": 188,
   "metadata": {
    "collapsed": false
   },
   "outputs": [
    {
     "name": "stdout",
     "output_type": "stream",
     "text": [
      "0.01 200\n",
      "0.934313620264 0.938397328881\n",
      "CPU times: user 10min 21s, sys: 3.78 s, total: 10min 25s\n",
      "Wall time: 10min 31s\n"
     ]
    }
   ],
   "source": [
    "%%time\n",
    "\n",
    "learning_rates = np.arange(0.01, 0.12, 0.02)\n",
    "n_estimatorss = np.arange(100, 1050, 100)\n",
    "accs = []\n",
    "for learning_rate in learning_rates:\n",
    "    accs_line = []\n",
    "    for n_estimators in n_estimatorss:\n",
    "        try:\n",
    "            gbc = GradientBoostingClassifier(learning_rate = learning_rate, n_estimators = n_estimators)\n",
    "            gbc.fit(X_train, y_train)\n",
    "            acc = accuracy_score(gbc.predict(X_test), y_test)\n",
    "            accs_line.append(int(acc*10000)/10000)\n",
    "        except ValueError:\n",
    "            accs_line.append(0)\n",
    "    accs.append(accs_line)\n",
    "    \n",
    "# for accs_line in accs:\n",
    "#     print(accs_line)\n",
    "\n",
    "accs_learning_rate = [max(accs_line) for accs_line in accs]\n",
    "learning_rate_index = accs_learning_rate.index(max(accs_learning_rate))\n",
    "learning_rate_best = learning_rates[learning_rate_index]\n",
    "\n",
    "accs_n_estimators = accs[learning_rate_index]\n",
    "n_estimators_index = accs_n_estimators.index(max(accs_n_estimators))\n",
    "n_estimators_best = n_estimatorss[n_estimators_index]\n",
    "\n",
    "acc_best = accs[learning_rate_index][n_estimators_index]\n",
    "\n",
    "print(learning_rate_best, n_estimators_best)\n",
    "\n",
    "gbc = GradientBoostingClassifier(learning_rate = learning_rate_best, n_estimators = n_estimators_best)\n",
    "gbc.fit(X_train, y_train)\n",
    "print(accuracy_score(gbc.predict(X_train), y_train), accuracy_score(gbc.predict(X_test), y_test))"
   ]
  },
  {
   "cell_type": "markdown",
   "metadata": {},
   "source": [
    "<b>Random Forest"
   ]
  },
  {
   "cell_type": "code",
   "execution_count": 186,
   "metadata": {
    "collapsed": false
   },
   "outputs": [
    {
     "name": "stdout",
     "output_type": "stream",
     "text": [
      "0.990698007227 0.921702838063\n"
     ]
    }
   ],
   "source": [
    "from sklearn.ensemble import RandomForestClassifier\n",
    "\n",
    "rfc = RandomForestClassifier()\n",
    "rfc.fit(X_train, y_train)\n",
    "print(accuracy_score(rfc.predict(X_train), y_train), accuracy_score(rfc.predict(X_test), y_test))"
   ]
  },
  {
   "cell_type": "code",
   "execution_count": 187,
   "metadata": {
    "collapsed": false
   },
   "outputs": [
    {
     "name": "stdout",
     "output_type": "stream",
     "text": [
      "300\n",
      "1.0 0.935642737896\n"
     ]
    }
   ],
   "source": [
    "%%time\n",
    "\n",
    "n_estimatorss = np.arange(50, 500, 50)\n",
    "accs = []\n",
    "for n_estimators in n_estimatorss:\n",
    "    rfc = RandomForestClassifier(n_estimators = n_estimators)\n",
    "    rfc.fit(X_train, y_train)\n",
    "    acc = accuracy_score(rfc.predict(X_test), y_test)\n",
    "    accs.append(acc)\n",
    "n_estimators_best = n_estimatorss[accs.index(max(accs))]\n",
    "print(n_estimators_best)\n",
    "\n",
    "rfc = RandomForestClassifier(n_estimators = n_estimators_best)\n",
    "rfc.fit(X_train, y_train)\n",
    "print(accuracy_score(rfc.predict(X_train), y_train), accuracy_score(rfc.predict(X_test), y_test))"
   ]
  },
  {
   "cell_type": "markdown",
   "metadata": {},
   "source": [
    "Итак, результаты градиентного бустинга превосходят результаты случайного леса.\n",
    "<br> (гиперпараметры настраивались квадратичным перебором, качество проверялось accuracy_score)"
   ]
  },
  {
   "cell_type": "markdown",
   "metadata": {
    "collapsed": true
   },
   "source": [
    "<h1 align=\"center\">Bonus part</h1> "
   ]
  },
  {
   "cell_type": "markdown",
   "metadata": {},
   "source": [
    "Это удвоит баллы за дз.\n",
    "\n",
    "- Реализуйте мультиклассовый бустинг -- проверьте на CIFAR10 + SVD\n",
    "- Попробуйте различные функции потерь, придумайте несколько своих, удалось ли обойти логистичискую и экспоненциальную?"
   ]
  },
  {
   "cell_type": "code",
   "execution_count": null,
   "metadata": {
    "collapsed": true
   },
   "outputs": [],
   "source": []
  }
 ],
 "metadata": {
  "kernelspec": {
   "display_name": "Python 3 Conda",
   "language": "python",
   "name": "py3_conda"
  },
  "language_info": {
   "codemirror_mode": {
    "name": "ipython",
    "version": 3
   },
   "file_extension": ".py",
   "mimetype": "text/x-python",
   "name": "python",
   "nbconvert_exporter": "python",
   "pygments_lexer": "ipython3",
   "version": "3.5.2"
  }
 },
 "nbformat": 4,
 "nbformat_minor": 0
}
