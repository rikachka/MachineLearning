{
 "cells": [
  {
   "cell_type": "markdown",
   "metadata": {},
   "source": [
    "<h1 align=\"center\">Оценка качества моделей и отбор признаков</h1>"
   ]
  },
  {
   "cell_type": "markdown",
   "metadata": {},
   "source": [
    "МФТИ ФИВТ: Курс Машинное Обучение (осень, 2016), Зухба Анастасия, a__l@mail.ru"
   ]
  },
  {
   "cell_type": "markdown",
   "metadata": {},
   "source": [
    "<h1 align=\"center\">Organization Info</h1> "
   ]
  },
  {
   "cell_type": "markdown",
   "metadata": {},
   "source": [
    "**Дополнительный материал для выполнения дз**:\n",
    "\n",
    "\n",
    "\n",
    "**Оформление дз**: \n",
    "- Присылайте выполненное задание на почту ``ml.course.mipt@gmail.com``\n",
    "- Укажите тему письма в следующем формате ``ML2016_fall <номер_группы> <фамилия>``, к примеру -- ``ML2016_fall 401 ivanov``\n",
    "- Выполненное дз сохраните в файл ``<фамилия>_<группа>_task<номер>.ipnb``, к примеру -- ``ivanov_401_task1.ipnb``\n",
    "\n",
    "**Вопросы**:\n",
    "- Присылайте вопросы на почту ``ml.course.mipt@gmail.com``\n",
    "- Укажите тему письма в следующем формате ``ML2016_fall Question <Содержание вопроса>``\n",
    "\n",
    "--------\n",
    "- **PS1**: Мы используем автоматические фильтры, и просто не найдем ваше дз, если вы не аккуратно его подпишите.\n",
    "- **PS2**: Напоминаем, что дедлайны жесткие, письма пришедшие после автоматически удаляются =( чтобы соблазна не было "
   ]
  },
  {
   "cell_type": "markdown",
   "metadata": {},
   "source": [
    "<h1 align=\"center\">Check Questions</h1> "
   ]
  },
  {
   "cell_type": "markdown",
   "metadata": {},
   "source": [
    "Ответе на вопросы своими словами (загугленный материал надо пересказать), ответ обоснуйте (напишите и ОБЪЯСНИТЕ формулки если потребуется), если не выходит, то вернитесь к лекции дополнительным материалам:\n",
    "\n",
    "**Вопрос 1**: В каких ситуациях полезно использовать AUC-ROC?\n",
    "\n",
    "AUC-ROC полезно использовать тогда, когда важна доля неверно принятых объектов относительно общего числа отрицательных. При этом классы должны быть сбалансированы.\n",
    "\n",
    "**Вопрос 2**: Когда использование precision/recall предпочтительнее, чем AUC-ROC?\n",
    "\n",
    "Использование PR-кривой предпочтительнее использования AUC-ROC-кривой в случае, когда классы несбалансированы (положительный класс существенно меньше по размеру). Это происходит из-за того, что AUC-ROC измеряет долю неверно принятых объектов относительно общего числа отрицательных. PR исправляет данную проблему, так как зависит от полноты и точности.\n",
    "\n",
    "**Вопрос 3**: Для чего используются внутренние критерии, а для чего внешние?\n",
    "\n",
    "Внутренний критерий характеризует качество метода на обучающей выборке, используется для подбора параметров. Внешний критерий характеризует качество метода на выборке, не использовавшейся в обучении, нужен для проверки того, как алгоритм будет работать на неизвестных ему данных и того, что не произошло переобучение.\n",
    "\n",
    "**Вопрос 4**: Чем эмпирические критерии отличаются от аналитических?\n",
    "\n",
    "Эмпирические критерии заключаются в усреднении оценок на множестве, аналитические - в получении оценки события и введении соответствующих коррекций.\n",
    "\n",
    "**Вопрос 5**: Что такое критерий регуляризации?\n",
    "\n",
    "Критерий регуляризации - внутренний критерий, в котором добавлен штраф за сложность алгоритма. Нужен для того, чтобы избежать переобучения."
   ]
  },
  {
   "cell_type": "markdown",
   "metadata": {
    "collapsed": true
   },
   "source": [
    "# Определение спама по тексту электронного письма"
   ]
  },
  {
   "cell_type": "markdown",
   "metadata": {
    "collapsed": true
   },
   "source": [
    "Попробуем при помощи моделей машинного обучения построить алгоритм, отделяющий спам от нормальной почты. Для экспериментов воспользуемся небольшим набором данных с UCI. Объекты в датасете соответствуют письмам, которые описаны признаками на основе текста письма, спам — положительный пример для классификации, хорошее письмо — отрицательный пример."
   ]
  },
  {
   "cell_type": "code",
   "execution_count": 2,
   "metadata": {
    "collapsed": false
   },
   "outputs": [
    {
     "name": "stdout",
     "output_type": "stream",
     "text": [
      "Populating the interactive namespace from numpy and matplotlib\n"
     ]
    }
   ],
   "source": [
    "%pylab inline"
   ]
  },
  {
   "cell_type": "code",
   "execution_count": 3,
   "metadata": {
    "collapsed": true
   },
   "outputs": [],
   "source": [
    "import pandas as pd\n",
    "import numpy as np\n",
    "\n",
    "from sklearn.metrics import accuracy_score\n",
    "from sklearn.metrics import precision_score\n",
    "from sklearn.metrics import recall_score\n",
    "from sklearn.metrics import f1_score"
   ]
  },
  {
   "cell_type": "markdown",
   "metadata": {
    "collapsed": true
   },
   "source": [
    "Загрузка датасета Spambase"
   ]
  },
  {
   "cell_type": "code",
   "execution_count": 68,
   "metadata": {
    "collapsed": false
   },
   "outputs": [
    {
     "data": {
      "text/html": [
       "<div>\n",
       "<table border=\"1\" class=\"dataframe\">\n",
       "  <thead>\n",
       "    <tr style=\"text-align: right;\">\n",
       "      <th></th>\n",
       "      <th>word_freq_make</th>\n",
       "      <th>word_freq_address</th>\n",
       "      <th>word_freq_all</th>\n",
       "      <th>word_freq_3d</th>\n",
       "      <th>word_freq_our</th>\n",
       "      <th>word_freq_over</th>\n",
       "      <th>word_freq_remove</th>\n",
       "      <th>word_freq_internet</th>\n",
       "      <th>word_freq_order</th>\n",
       "      <th>word_freq_mail</th>\n",
       "      <th>...</th>\n",
       "      <th>char_freq_;</th>\n",
       "      <th>char_freq_(</th>\n",
       "      <th>char_freq_[</th>\n",
       "      <th>char_freq_!</th>\n",
       "      <th>char_freq_$</th>\n",
       "      <th>char_freq_#</th>\n",
       "      <th>capital_run_length_average</th>\n",
       "      <th>capital_run_length_longest</th>\n",
       "      <th>capital_run_length_total</th>\n",
       "      <th>spam</th>\n",
       "    </tr>\n",
       "  </thead>\n",
       "  <tbody>\n",
       "    <tr>\n",
       "      <th>0</th>\n",
       "      <td>0.00</td>\n",
       "      <td>0.64</td>\n",
       "      <td>0.64</td>\n",
       "      <td>0.0</td>\n",
       "      <td>0.32</td>\n",
       "      <td>0.00</td>\n",
       "      <td>0.00</td>\n",
       "      <td>0.00</td>\n",
       "      <td>0.00</td>\n",
       "      <td>0.00</td>\n",
       "      <td>...</td>\n",
       "      <td>0.00</td>\n",
       "      <td>0.000</td>\n",
       "      <td>0.0</td>\n",
       "      <td>0.778</td>\n",
       "      <td>0.000</td>\n",
       "      <td>0.000</td>\n",
       "      <td>3.756</td>\n",
       "      <td>61</td>\n",
       "      <td>278</td>\n",
       "      <td>1</td>\n",
       "    </tr>\n",
       "    <tr>\n",
       "      <th>1</th>\n",
       "      <td>0.21</td>\n",
       "      <td>0.28</td>\n",
       "      <td>0.50</td>\n",
       "      <td>0.0</td>\n",
       "      <td>0.14</td>\n",
       "      <td>0.28</td>\n",
       "      <td>0.21</td>\n",
       "      <td>0.07</td>\n",
       "      <td>0.00</td>\n",
       "      <td>0.94</td>\n",
       "      <td>...</td>\n",
       "      <td>0.00</td>\n",
       "      <td>0.132</td>\n",
       "      <td>0.0</td>\n",
       "      <td>0.372</td>\n",
       "      <td>0.180</td>\n",
       "      <td>0.048</td>\n",
       "      <td>5.114</td>\n",
       "      <td>101</td>\n",
       "      <td>1028</td>\n",
       "      <td>1</td>\n",
       "    </tr>\n",
       "    <tr>\n",
       "      <th>2</th>\n",
       "      <td>0.06</td>\n",
       "      <td>0.00</td>\n",
       "      <td>0.71</td>\n",
       "      <td>0.0</td>\n",
       "      <td>1.23</td>\n",
       "      <td>0.19</td>\n",
       "      <td>0.19</td>\n",
       "      <td>0.12</td>\n",
       "      <td>0.64</td>\n",
       "      <td>0.25</td>\n",
       "      <td>...</td>\n",
       "      <td>0.01</td>\n",
       "      <td>0.143</td>\n",
       "      <td>0.0</td>\n",
       "      <td>0.276</td>\n",
       "      <td>0.184</td>\n",
       "      <td>0.010</td>\n",
       "      <td>9.821</td>\n",
       "      <td>485</td>\n",
       "      <td>2259</td>\n",
       "      <td>1</td>\n",
       "    </tr>\n",
       "    <tr>\n",
       "      <th>3</th>\n",
       "      <td>0.00</td>\n",
       "      <td>0.00</td>\n",
       "      <td>0.00</td>\n",
       "      <td>0.0</td>\n",
       "      <td>0.63</td>\n",
       "      <td>0.00</td>\n",
       "      <td>0.31</td>\n",
       "      <td>0.63</td>\n",
       "      <td>0.31</td>\n",
       "      <td>0.63</td>\n",
       "      <td>...</td>\n",
       "      <td>0.00</td>\n",
       "      <td>0.137</td>\n",
       "      <td>0.0</td>\n",
       "      <td>0.137</td>\n",
       "      <td>0.000</td>\n",
       "      <td>0.000</td>\n",
       "      <td>3.537</td>\n",
       "      <td>40</td>\n",
       "      <td>191</td>\n",
       "      <td>1</td>\n",
       "    </tr>\n",
       "    <tr>\n",
       "      <th>4</th>\n",
       "      <td>0.00</td>\n",
       "      <td>0.00</td>\n",
       "      <td>0.00</td>\n",
       "      <td>0.0</td>\n",
       "      <td>0.63</td>\n",
       "      <td>0.00</td>\n",
       "      <td>0.31</td>\n",
       "      <td>0.63</td>\n",
       "      <td>0.31</td>\n",
       "      <td>0.63</td>\n",
       "      <td>...</td>\n",
       "      <td>0.00</td>\n",
       "      <td>0.135</td>\n",
       "      <td>0.0</td>\n",
       "      <td>0.135</td>\n",
       "      <td>0.000</td>\n",
       "      <td>0.000</td>\n",
       "      <td>3.537</td>\n",
       "      <td>40</td>\n",
       "      <td>191</td>\n",
       "      <td>1</td>\n",
       "    </tr>\n",
       "  </tbody>\n",
       "</table>\n",
       "<p>5 rows × 58 columns</p>\n",
       "</div>"
      ],
      "text/plain": [
       "   word_freq_make  word_freq_address  word_freq_all  word_freq_3d  \\\n",
       "0            0.00               0.64           0.64           0.0   \n",
       "1            0.21               0.28           0.50           0.0   \n",
       "2            0.06               0.00           0.71           0.0   \n",
       "3            0.00               0.00           0.00           0.0   \n",
       "4            0.00               0.00           0.00           0.0   \n",
       "\n",
       "   word_freq_our  word_freq_over  word_freq_remove  word_freq_internet  \\\n",
       "0           0.32            0.00              0.00                0.00   \n",
       "1           0.14            0.28              0.21                0.07   \n",
       "2           1.23            0.19              0.19                0.12   \n",
       "3           0.63            0.00              0.31                0.63   \n",
       "4           0.63            0.00              0.31                0.63   \n",
       "\n",
       "   word_freq_order  word_freq_mail  ...   char_freq_;  char_freq_(  \\\n",
       "0             0.00            0.00  ...          0.00        0.000   \n",
       "1             0.00            0.94  ...          0.00        0.132   \n",
       "2             0.64            0.25  ...          0.01        0.143   \n",
       "3             0.31            0.63  ...          0.00        0.137   \n",
       "4             0.31            0.63  ...          0.00        0.135   \n",
       "\n",
       "   char_freq_[  char_freq_!  char_freq_$  char_freq_#  \\\n",
       "0          0.0        0.778        0.000        0.000   \n",
       "1          0.0        0.372        0.180        0.048   \n",
       "2          0.0        0.276        0.184        0.010   \n",
       "3          0.0        0.137        0.000        0.000   \n",
       "4          0.0        0.135        0.000        0.000   \n",
       "\n",
       "   capital_run_length_average  capital_run_length_longest  \\\n",
       "0                       3.756                          61   \n",
       "1                       5.114                         101   \n",
       "2                       9.821                         485   \n",
       "3                       3.537                          40   \n",
       "4                       3.537                          40   \n",
       "\n",
       "   capital_run_length_total  spam  \n",
       "0                       278     1  \n",
       "1                      1028     1  \n",
       "2                      2259     1  \n",
       "3                       191     1  \n",
       "4                       191     1  \n",
       "\n",
       "[5 rows x 58 columns]"
      ]
     },
     "execution_count": 68,
     "metadata": {},
     "output_type": "execute_result"
    }
   ],
   "source": [
    "import pandas\n",
    "import urllib2\n",
    "\n",
    "SPAMBASE_NAMES_URL = 'https://archive.ics.uci.edu/ml/machine-learning-databases/spambase/spambase.names'\n",
    "SPAMBASE_DATA_URL = 'https://archive.ics.uci.edu/ml/machine-learning-databases/spambase/spambase.data'\n",
    "\n",
    "feature_names = [\n",
    "    line.strip().split(':')[0] \n",
    "    for line in urllib2.urlopen(SPAMBASE_NAMES_URL).readlines()[33:]\n",
    "]\n",
    "spam_data = pandas.read_csv(SPAMBASE_DATA_URL, header=None, names=(feature_names + ['spam']))\n",
    " \n",
    "X, y = spam_data.ix[:, :-1].values, spam_data.ix[:, -1].values\n",
    " \n",
    "spam_data.head()"
   ]
  },
  {
   "cell_type": "markdown",
   "metadata": {
    "collapsed": true
   },
   "source": [
    "**Задание**\n",
    "- Сколько примеров писем в датасете?\n",
    "- Какова доля плохих писем?\n",
    "- Какие характерные группы признаков представлены в наборе?"
   ]
  },
  {
   "cell_type": "code",
   "execution_count": 4,
   "metadata": {
    "collapsed": false
   },
   "outputs": [
    {
     "name": "stdout",
     "output_type": "stream",
     "text": [
      "Emails number:\n",
      "4601\n"
     ]
    }
   ],
   "source": [
    "print(\"Emails number:\")\n",
    "print(len(spam_data))"
   ]
  },
  {
   "cell_type": "code",
   "execution_count": 5,
   "metadata": {
    "collapsed": false
   },
   "outputs": [
    {
     "name": "stdout",
     "output_type": "stream",
     "text": [
      "Bad emails:\n",
      "0.394044772875\n"
     ]
    }
   ],
   "source": [
    "print(\"Bad emails:\")\n",
    "all = len(y)\n",
    "bad = len([elem for elem in y if elem == 1])\n",
    "print(double(bad) / all)"
   ]
  },
  {
   "cell_type": "code",
   "execution_count": 6,
   "metadata": {
    "collapsed": false
   },
   "outputs": [
    {
     "name": "stdout",
     "output_type": "stream",
     "text": [
      "Index([u'word_freq_make', u'word_freq_address', u'word_freq_all',\n",
      "       u'word_freq_3d', u'word_freq_our', u'word_freq_over',\n",
      "       u'word_freq_remove', u'word_freq_internet', u'word_freq_order',\n",
      "       u'word_freq_mail', u'word_freq_receive', u'word_freq_will',\n",
      "       u'word_freq_people', u'word_freq_report', u'word_freq_addresses',\n",
      "       u'word_freq_free', u'word_freq_business', u'word_freq_email',\n",
      "       u'word_freq_you', u'word_freq_credit', u'word_freq_your',\n",
      "       u'word_freq_font', u'word_freq_000', u'word_freq_money',\n",
      "       u'word_freq_hp', u'word_freq_hpl', u'word_freq_george',\n",
      "       u'word_freq_650', u'word_freq_lab', u'word_freq_labs',\n",
      "       u'word_freq_telnet', u'word_freq_857', u'word_freq_data',\n",
      "       u'word_freq_415', u'word_freq_85', u'word_freq_technology',\n",
      "       u'word_freq_1999', u'word_freq_parts', u'word_freq_pm',\n",
      "       u'word_freq_direct', u'word_freq_cs', u'word_freq_meeting',\n",
      "       u'word_freq_original', u'word_freq_project', u'word_freq_re',\n",
      "       u'word_freq_edu', u'word_freq_table', u'word_freq_conference',\n",
      "       u'char_freq_;', u'char_freq_(', u'char_freq_[', u'char_freq_!',\n",
      "       u'char_freq_$', u'char_freq_#', u'capital_run_length_average',\n",
      "       u'capital_run_length_longest', u'capital_run_length_total', u'spam'],\n",
      "      dtype='object')\n"
     ]
    }
   ],
   "source": [
    "print(spam_data.columns)"
   ]
  },
  {
   "cell_type": "markdown",
   "metadata": {},
   "source": [
    "Характерные группы признаков: word_freq, char_freq, capital_run_length"
   ]
  },
  {
   "cell_type": "markdown",
   "metadata": {},
   "source": [
    "### Обучение классификатора и оценка его качества"
   ]
  },
  {
   "cell_type": "markdown",
   "metadata": {
    "collapsed": true
   },
   "source": [
    "Обучение и оценка качества модели производится на независимых множествах примеров. Как правило, имеющующиеся примеры разбивают на два подмножества: обучение (train) и контроль (test). Выбор пропорции разбиения — компромисс: большой размер обучения ведет к более богатым информацией и качественным алгоритмам, большой размер контрольной выборки ведет к менее шумной оценке качества.\n",
    "\n",
    "Для оценки качества классификации рассматривают матрицу ошибок: строчки соответствуют истинному классу, столбцы — предсказанному классификатором, ячейки содержат число примеров тестовой выборки.\n",
    "\n",
    "<img src=\"confusion_matrix.png\">"
   ]
  },
  {
   "cell_type": "markdown",
   "metadata": {
    "collapsed": true
   },
   "source": [
    "Диагональ матрицы ошибок содержит правильно классифицированные положительные (TP) и отрицательные (TN) примеры. False Positive (FP) — ошибки I рода (ложное срабатывание, положили в спам хорошее письмо), False Negative (FN) — ошибки II рода (не отфильтровали спам). Ошибки I и II рода могут иметь различную стоимость.\n",
    "\n",
    "Часто рассматриваются следующие метрики качества бинарной классификации:\n",
    "\n",
    "- Accuracy = (TP + TN) / (TP + TN + FP + FN) — доля правильных ответов\n",
    "- Precision = TP / (TP + FP) — точность, доля спама среди писем, классифицированных как спам\n",
    "- Recall = TP / (TP + FN) — полнота, доля спама, которая была отфильтрована\n",
    "- F1 = 2TP / (2TP + FP + FN) — среднее гармоническое между точностью и полнотой"
   ]
  },
  {
   "cell_type": "markdown",
   "metadata": {
    "collapsed": true
   },
   "source": [
    "**Задание**\n",
    "- Разбейте набор примеров на две непересекающиеся подвыборки следующим образом: train — первые 3000 примеров (≈65%), test — все остальные примеры.\n",
    "- Обучите решающее дерево на train. Классифицируйте примеры из test. Посчитайте метрики качества классификации, описанные выше: Accuracy, Precision, Recall, F1. Рекомендованные параметры решающего дерева: разбиение по критерию gini, максимальная глубина: 7.\n",
    "- Какие есть недостатки у получившейся оценки качества на подвыборке test? Как можно сделать оценку качества более информативной?\n",
    "- Повторите эксперимент, перемешав случайно объекты исходной выборки перед разбиением.\n",
    "- Какие признаки оказались наиболее важными для определения спама? Воспользуйтесь оценками важности признаков, полученых при построении решающего дерева.\n",
    "- Какое качество дает лучшая константная модель (определяющая класс определенно и вне зависимости от признаков)?\n",
    "- Обучите модель KNN и оцените ее качество на test. Рекомендованные параметры: K=10, евклидова метрика в качестве расстояния.\n",
    "- Обучите модель KNN, предварительно приведя значения признаков к одинаковому масштабу. Оцените качество полученной модели на test. Дает ли подобное преобразование признаков прирост качества для модели KNN? Проделайте тот же эксперимент с решающим деревом. Почему масштабирование признаков не влияет на качество решающего дерева, но повышает качество классификации модели KNN?\n",
    "- Сравните все обученные модели по всем метрикам.\n"
   ]
  },
  {
   "cell_type": "markdown",
   "metadata": {
    "collapsed": true
   },
   "source": [
    "В итоге должны быть построены и сравнены между собой следующие модели:\n",
    "\n",
    "1) Константная модель\n",
    "2) Решающее дерево\n",
    "3) KNN\n",
    "4) KNN с масштабированием признаков"
   ]
  },
  {
   "cell_type": "code",
   "execution_count": 7,
   "metadata": {
    "collapsed": true
   },
   "outputs": [],
   "source": [
    "train_size = 3000\n",
    "test_size = len(X) - train_size\n",
    "X_train, y_train, X_test, y_test = X[:train_size], y[:train_size], X[train_size:], y[train_size:]"
   ]
  },
  {
   "cell_type": "code",
   "execution_count": 8,
   "metadata": {
    "collapsed": false
   },
   "outputs": [
    {
     "name": "stdout",
     "output_type": "stream",
     "text": [
      "[0 0 0 ..., 0 0 0]\n"
     ]
    }
   ],
   "source": [
    "print(y_test)"
   ]
  },
  {
   "cell_type": "markdown",
   "metadata": {},
   "source": [
    "Недостатки заключаются в том, что все данные в test относятся к классу 0, так как перечислялось по порядку: сначала весь класс 1, потом весь класс 2. Поэтому мы можем измерить только accuracy."
   ]
  },
  {
   "cell_type": "code",
   "execution_count": 41,
   "metadata": {
    "collapsed": false
   },
   "outputs": [],
   "source": [
    "data = spam_data.ix[:, ].values;\n",
    "random.seed(123)\n",
    "np.random.shuffle(data)\n",
    "X = [elem[:-1] for elem in data]\n",
    "y = [elem[-1] for elem in data]"
   ]
  },
  {
   "cell_type": "code",
   "execution_count": 42,
   "metadata": {
    "collapsed": true
   },
   "outputs": [],
   "source": [
    "train_size = 3000\n",
    "test_size = len(X) - train_size\n",
    "X_train, y_train, X_test, y_test = X[:train_size], y[:train_size], X[train_size:], y[train_size:]"
   ]
  },
  {
   "cell_type": "code",
   "execution_count": 43,
   "metadata": {
    "collapsed": false
   },
   "outputs": [
    {
     "name": "stdout",
     "output_type": "stream",
     "text": [
      "[0.0, 1.0, 0.0, 0.0, 0.0, 0.0, 0.0, 1.0, 1.0, 1.0]\n"
     ]
    }
   ],
   "source": [
    "print(y_test[:10])"
   ]
  },
  {
   "cell_type": "markdown",
   "metadata": {},
   "source": [
    "<h4>Решающее дерево"
   ]
  },
  {
   "cell_type": "code",
   "execution_count": 10,
   "metadata": {
    "collapsed": false
   },
   "outputs": [
    {
     "name": "stdout",
     "output_type": "stream",
     "text": [
      "(0.94866666666666666, 0.89943785134291065)\n",
      "(0.97153351698806245, 0.92280071813285458)\n",
      "(0.89585097375105838, 0.81329113924050633)\n",
      "(0.93215859030837001, 0.86459209419680416)\n"
     ]
    }
   ],
   "source": [
    "from sklearn.tree import DecisionTreeClassifier\n",
    "\n",
    "dtc = DecisionTreeClassifier(max_depth=7)\n",
    "dtc.fit(X_train, y_train)\n",
    "y_train_predict = dtc.predict(X_train)\n",
    "y_test_predict = dtc.predict(X_test)\n",
    "print(accuracy_score(y_train, y_train_predict), accuracy_score(y_test, y_test_predict))\n",
    "print(precision_score(y_train, y_train_predict), precision_score(y_test, y_test_predict))\n",
    "print(recall_score(y_train, y_train_predict), recall_score(y_test, y_test_predict))\n",
    "print(f1_score(y_train, y_train_predict), f1_score(y_test, y_test_predict))"
   ]
  },
  {
   "cell_type": "code",
   "execution_count": 11,
   "metadata": {
    "collapsed": false
   },
   "outputs": [
    {
     "name": "stdout",
     "output_type": "stream",
     "text": [
      "52 \tchar_freq_$                    \timportance = 0.42\n",
      "6 \tword_freq_remove               \timportance = 0.19\n",
      "51 \tchar_freq_!                    \timportance = 0.10\n",
      "24 \tword_freq_hp                   \timportance = 0.08\n",
      "15 \tword_freq_free                 \timportance = 0.03\n",
      "55 \tcapital_run_length_longest     \timportance = 0.03\n",
      "45 \tword_freq_edu                  \timportance = 0.03\n",
      "44 \tword_freq_re                   \timportance = 0.02\n",
      "26 \tword_freq_george               \timportance = 0.02\n",
      "23 \tword_freq_money                \timportance = 0.02\n",
      "48 \tchar_freq_;                    \timportance = 0.01\n",
      "41 \tword_freq_meeting              \timportance = 0.01\n",
      "21 \tword_freq_font                 \timportance = 0.01\n",
      "16 \tword_freq_business             \timportance = 0.01\n",
      "56 \tcapital_run_length_total       \timportance = 0.01\n",
      "54 \tcapital_run_length_average     \timportance = 0.01\n",
      "7 \tword_freq_internet             \timportance = 0.00\n",
      "47 \tword_freq_conference           \timportance = 0.00\n",
      "29 \tword_freq_labs                 \timportance = 0.00\n",
      "32 \tword_freq_data                 \timportance = 0.00\n",
      "50 \tchar_freq_[                    \timportance = 0.00\n",
      "49 \tchar_freq_(                    \timportance = 0.00\n",
      "4 \tword_freq_our                  \timportance = 0.00\n",
      "1 \tword_freq_address              \timportance = 0.00\n",
      "17 \tword_freq_email                \timportance = 0.00\n",
      "2 \tword_freq_all                  \timportance = 0.00\n",
      "3 \tword_freq_3d                   \timportance = 0.00\n",
      "5 \tword_freq_over                 \timportance = 0.00\n",
      "19 \tword_freq_credit               \timportance = 0.00\n",
      "14 \tword_freq_addresses            \timportance = 0.00\n",
      "13 \tword_freq_report               \timportance = 0.00\n",
      "12 \tword_freq_people               \timportance = 0.00\n",
      "11 \tword_freq_will                 \timportance = 0.00\n",
      "10 \tword_freq_receive              \timportance = 0.00\n",
      "9 \tword_freq_mail                 \timportance = 0.00\n",
      "8 \tword_freq_order                \timportance = 0.00\n",
      "18 \tword_freq_you                  \timportance = 0.00\n",
      "28 \tword_freq_lab                  \timportance = 0.00\n",
      "20 \tword_freq_your                 \timportance = 0.00\n",
      "37 \tword_freq_parts                \timportance = 0.00\n",
      "53 \tchar_freq_#                    \timportance = 0.00\n",
      "46 \tword_freq_table                \timportance = 0.00\n",
      "43 \tword_freq_project              \timportance = 0.00\n",
      "42 \tword_freq_original             \timportance = 0.00\n",
      "40 \tword_freq_cs                   \timportance = 0.00\n",
      "39 \tword_freq_direct               \timportance = 0.00\n",
      "38 \tword_freq_pm                   \timportance = 0.00\n",
      "36 \tword_freq_1999                 \timportance = 0.00\n",
      "22 \tword_freq_000                  \timportance = 0.00\n",
      "35 \tword_freq_technology           \timportance = 0.00\n",
      "34 \tword_freq_85                   \timportance = 0.00\n",
      "33 \tword_freq_415                  \timportance = 0.00\n",
      "31 \tword_freq_857                  \timportance = 0.00\n",
      "30 \tword_freq_telnet               \timportance = 0.00\n",
      "27 \tword_freq_650                  \timportance = 0.00\n",
      "25 \tword_freq_hpl                  \timportance = 0.00\n",
      "0 \tword_freq_make                 \timportance = 0.00\n"
     ]
    }
   ],
   "source": [
    "most_important_features = argsort(dtc.feature_importances_)[::-1]\n",
    "for idx in most_important_features:\n",
    "    print '%d \\t%s \\timportance = %.2f' % (idx, spam_data.columns[idx].ljust(30), dtc.feature_importances_[idx])"
   ]
  },
  {
   "cell_type": "markdown",
   "metadata": {},
   "source": [
    "<h4> Константная модель"
   ]
  },
  {
   "cell_type": "code",
   "execution_count": 45,
   "metadata": {
    "collapsed": false
   },
   "outputs": [
    {
     "name": "stdout",
     "output_type": "stream",
     "text": [
      "Константа 1:\n",
      "0.394044772875\n",
      "0.394044772875\n",
      "1.0\n",
      "0.565325849704\n",
      "\n",
      "Константа 0:\n",
      "0.605955227125\n",
      "0.0\n",
      "0.0\n",
      "0.0\n"
     ]
    }
   ],
   "source": [
    "y_1 = [1.0] * len(y)\n",
    "y_0 = [0.0] * len(y)\n",
    "\n",
    "print(\"Константа 1:\")\n",
    "print(accuracy_score(y, y_1))\n",
    "print(precision_score(y, y_1))\n",
    "print(recall_score(y, y_1))\n",
    "print(f1_score(y, y_1))\n",
    "print(\"\")\n",
    "\n",
    "print(\"Константа 0:\")\n",
    "print(accuracy_score(y, y_0))\n",
    "print(precision_score(y, y_0))\n",
    "print(recall_score(y, y_0))\n",
    "print(f1_score(y, y_0))"
   ]
  },
  {
   "cell_type": "markdown",
   "metadata": {},
   "source": [
    "<h4> kNN"
   ]
  },
  {
   "cell_type": "code",
   "execution_count": 13,
   "metadata": {
    "collapsed": false
   },
   "outputs": [
    {
     "name": "stdout",
     "output_type": "stream",
     "text": [
      "(0.83566666666666667, 0.77763897564022488)\n",
      "(0.84399999999999997, 0.76037735849056609)\n",
      "(0.71464860287891618, 0.63765822784810122)\n",
      "(0.77395690050435584, 0.69363166953528399)\n"
     ]
    }
   ],
   "source": [
    "from sklearn.neighbors import KNeighborsClassifier\n",
    "\n",
    "knc = KNeighborsClassifier(n_neighbors=10)\n",
    "knc.fit(X_train, y_train)\n",
    "y_train_predict = knc.predict(X_train)\n",
    "y_test_predict = knc.predict(X_test)\n",
    "print(accuracy_score(y_train, y_train_predict), accuracy_score(y_test, y_test_predict))\n",
    "print(precision_score(y_train, y_train_predict), precision_score(y_test, y_test_predict))\n",
    "print(recall_score(y_train, y_train_predict), recall_score(y_test, y_test_predict))\n",
    "print(f1_score(y_train, y_train_predict), f1_score(y_test, y_test_predict))"
   ]
  },
  {
   "cell_type": "markdown",
   "metadata": {},
   "source": [
    "<h4> kNN с масштабированием признаков"
   ]
  },
  {
   "cell_type": "code",
   "execution_count": 14,
   "metadata": {
    "collapsed": false
   },
   "outputs": [
    {
     "name": "stdout",
     "output_type": "stream",
     "text": [
      "[[-0.33048431 -0.16379498 -0.55179569 ..., -0.11650269 -0.34099737\n",
      "  -0.37501484]\n",
      " [-0.33048431 -0.16379498 -0.55179569 ..., -0.03171094 -0.27244715\n",
      "  -0.33782666]\n",
      " [-0.33048431 -0.16379498 -0.55179569 ..., -0.10800172 -0.28101593\n",
      "  -0.39205942]\n",
      " ..., \n",
      " [-0.33048431 -0.16379498 -0.55179569 ..., -0.09274356 -0.22103448\n",
      "  -0.36416829]\n",
      " [-0.00702975  0.4429051   0.68456486 ..., -0.09217683 -0.16105304\n",
      "   0.20914939]\n",
      " [-0.10406612 -0.16379498  0.54497576 ..., -0.04121459  0.2502483\n",
      "   0.64611042]]\n"
     ]
    }
   ],
   "source": [
    "from sklearn.preprocessing import scale\n",
    "\n",
    "X_train_scaled = scale(X_train)\n",
    "X_test_scaled = scale(X_test)\n",
    "print(X_train_scaled)"
   ]
  },
  {
   "cell_type": "code",
   "execution_count": 74,
   "metadata": {
    "collapsed": false
   },
   "outputs": [
    {
     "name": "stdout",
     "output_type": "stream",
     "text": [
      "(0.91900000000000004, 0.89444097439100567)\n",
      "(0.94161958568738224, 0.91711711711711708)\n",
      "(0.84674005080440307, 0.805379746835443)\n",
      "(0.89166295140436924, 0.85762426284751458)\n"
     ]
    }
   ],
   "source": [
    "from sklearn.neighbors import KNeighborsClassifier\n",
    "\n",
    "knc = KNeighborsClassifier(n_neighbors=10)\n",
    "knc.fit(X_train_scaled, y_train)\n",
    "y_train_predict = knc.predict(X_train_scaled)\n",
    "y_test_predict = knc.predict(X_test_scaled)\n",
    "print(accuracy_score(y_train, y_train_predict), accuracy_score(y_test, y_test_predict))\n",
    "print(precision_score(y_train, y_train_predict), precision_score(y_test, y_test_predict))\n",
    "print(recall_score(y_train, y_train_predict), recall_score(y_test, y_test_predict))\n",
    "print(f1_score(y_train, y_train_predict), f1_score(y_test, y_test_predict))"
   ]
  },
  {
   "cell_type": "markdown",
   "metadata": {},
   "source": [
    "<h4>Решающее дерево c масштабированием признаков"
   ]
  },
  {
   "cell_type": "code",
   "execution_count": 16,
   "metadata": {
    "collapsed": false
   },
   "outputs": [],
   "source": [
    "from sklearn.preprocessing import scale\n",
    "\n",
    "X_train_scaled = scale(X_train)\n",
    "X_test_scaled = scale(X_test)"
   ]
  },
  {
   "cell_type": "code",
   "execution_count": 17,
   "metadata": {
    "collapsed": false
   },
   "outputs": [
    {
     "name": "stdout",
     "output_type": "stream",
     "text": [
      "(0.94866666666666666, 0.89194253591505313)\n",
      "(0.97153351698806245, 0.8883248730964467)\n",
      "(0.89585097375105838, 0.83069620253164556)\n",
      "(0.93215859030837001, 0.85854456255110378)\n"
     ]
    }
   ],
   "source": [
    "from sklearn.tree import DecisionTreeClassifier\n",
    "\n",
    "dtc = DecisionTreeClassifier(max_depth=7)\n",
    "dtc.fit(X_train_scaled, y_train)\n",
    "y_train_predict = dtc.predict(X_train_scaled)\n",
    "y_test_predict = dtc.predict(X_test_scaled)\n",
    "print(accuracy_score(y_train, y_train_predict), accuracy_score(y_test, y_test_predict))\n",
    "print(precision_score(y_train, y_train_predict), precision_score(y_test, y_test_predict))\n",
    "print(recall_score(y_train, y_train_predict), recall_score(y_test, y_test_predict))\n",
    "print(f1_score(y_train, y_train_predict), f1_score(y_test, y_test_predict))"
   ]
  },
  {
   "cell_type": "markdown",
   "metadata": {},
   "source": [
    "Итак, масштабирование признаков улучшает результат kNN, но ухудшает результат решающего дерева. Это происходит из-за того, что для kNN важно расстояние (без масштабирования одни признаки оказывают больше влияния, чем другие), а для решающего дерева, наоборот, масштабирование является потерей части данных."
   ]
  },
  {
   "cell_type": "markdown",
   "metadata": {},
   "source": [
    "Итог: по всем метрикам Решающее дерево > kNN c масштабированием > Константный алгоритм."
   ]
  },
  {
   "cell_type": "markdown",
   "metadata": {
    "collapsed": true
   },
   "source": [
    "### Выбор порога классификации"
   ]
  },
  {
   "cell_type": "markdown",
   "metadata": {
    "collapsed": true
   },
   "source": [
    "Многие модели классификации получают оценку принадлежности положительному классу $y'(x)\\in R$. Затем принимают решение о классе объекта путем сравнения оценки с порогом: $y(x)=+1$, если $y'(x)<\\theta$, $y(x)=−1$, если $y'(x)\\geq\\theta$\n",
    "\n",
    "Матрица ошибок и все производные от нее метрики (Accuracy, Precision, Recall, etc.) зависят от порога $\\theta$.\n",
    "\n",
    "\n",
    "<img src=\"binary_threshold.png\">\n",
    "\n",
    "Для того чтобы видеть изменения метрик при всех значениях порога классификации, рассматривают координатную плоскость, по осям которой отложены значения метрик, а качество работы классификатора представлено в виде кривой — траектории изменения соответствующих метрик при варьировании порога:\n",
    "\n",
    "<img src=\"roc_trajectory.png\">\n",
    "\n",
    "Наиболее распространены ROC-кривые (плоскость TP-vs-FP) и Precision/Recall кривые. Аббревиатура ROC (Receiver Operating Characteristic) была унаследована из инженерного дела.\n",
    "\n",
    "<img src=\"roc_and_pr_curves.png\">\n",
    "\n",
    "В случае, если необходимо сравнить качество классификаторов вне зависимости от порога, применяют интегральные числовые метрики, например AUC-ROC (Area Under ROC) — площадь под ROC-кривой классификатора. AUC-ROC идеально работающего классификатора равно 1. Идеальный случайный классификатор в среднем имеет AUC-ROC=0.5.\n",
    "\n"
   ]
  },
  {
   "cell_type": "markdown",
   "metadata": {},
   "source": [
    "**Задача 1**\n",
    "\n",
    " Определите функционал «доля дефектных пар» для задачи бинарной классификации. Как данный функционал связан с AUC-ROC?\n",
    "\n",
    "$$DP(a, X^l) = 1 - \\frac{2}{l(l - 1)}\\sum_{i<j}^{l} [y_{(i)} > y_{(j)}]$$\n",
    "$$DP = 1 - \\frac{2 l_-l_+}{l(l - 1)}(1 - AUC)$$"
   ]
  },
  {
   "cell_type": "markdown",
   "metadata": {
    "collapsed": true
   },
   "source": [
    "**Задача 2**\n",
    "\n",
    "Приведите пример целевого вектора $y_1, \\ldots , y_l$ и ответов алгоритма $b(x_1),\\ldots,b(x_l)$, для которых AUC-ROC будет равен 0.5.\n",
    "\n",
    "\n",
    "$$(y_1, y_2 , y_3) = (1, 0, 1)$$ <br>\n",
    "$$(b(x_1), b(x_2), b(x_3)) = (0.5, 0.6, 0.7)$$\n",
    "$$AUC(x) = 1 - \\frac{1}{l_+l_-}\\sum_{i<j} [y_{(i)} > y_{(j)}]$$\n",
    "$$AUC(x) = 1 - \\frac{1}{2}*1 = \\frac{1}{2}$$"
   ]
  },
  {
   "cell_type": "markdown",
   "metadata": {
    "collapsed": true
   },
   "source": [
    "**Задание**\n",
    "\n",
    " Верно ли, что классификаторы из предыдущей части действуют путем сравнения некоторой оценки принадлежности положительному классу с порогом? Что это за оценки принадлежности? Какие пороги были выбраны?\n",
    " \n",
    " Для всех моделей, построенных в предыдущем задании:\n",
    "- Постройте ROC и Precision/Recall кривые в одних координатных осях, линиями разных цветов. Добавьте легенду: какая кривая соответствует какому классификатору.\n",
    "- Сравните значения AUC-ROC.\n",
    "\n",
    "Какой максимальной полноты определения спама достигают построенные классификаторы, если перед вами стоит жесткое ограничение: точность классификатора не может быть меньше 90%?\n",
    "\n"
   ]
  },
  {
   "cell_type": "code",
   "execution_count": 118,
   "metadata": {
    "collapsed": true
   },
   "outputs": [],
   "source": [
    "data = spam_data.ix[:, ].values;\n",
    "random.seed(120)\n",
    "np.random.shuffle(data)\n",
    "X = [elem[:-1] for elem in data]\n",
    "y = [elem[-1] for elem in data]"
   ]
  },
  {
   "cell_type": "code",
   "execution_count": 119,
   "metadata": {
    "collapsed": true
   },
   "outputs": [],
   "source": [
    "train_size = 3000\n",
    "test_size = len(X) - train_size\n",
    "X_train, y_train, X_test, y_test = X[:train_size], y[:train_size], X[train_size:], y[train_size:]"
   ]
  },
  {
   "cell_type": "code",
   "execution_count": 120,
   "metadata": {
    "collapsed": false
   },
   "outputs": [],
   "source": [
    "from sklearn.preprocessing import scale\n",
    "\n",
    "X_train_scaled = scale(X_train)\n",
    "X_test_scaled = scale(X_test)"
   ]
  },
  {
   "cell_type": "code",
   "execution_count": 64,
   "metadata": {
    "collapsed": true
   },
   "outputs": [],
   "source": [
    "from sklearn.neighbors import KNeighborsClassifier\n",
    "from sklearn.tree import DecisionTreeClassifier"
   ]
  },
  {
   "cell_type": "markdown",
   "metadata": {},
   "source": [
    "<h4>Precision/Recall"
   ]
  },
  {
   "cell_type": "code",
   "execution_count": 121,
   "metadata": {
    "collapsed": false
   },
   "outputs": [
    {
     "data": {
      "image/png": "[encoded data removed]",
      "text/plain": [
       "<matplotlib.figure.Figure at 0x1161fe0d0>"
      ]
     },
     "metadata": {},
     "output_type": "display_data"
    }
   ],
   "source": [
    "from sklearn.metrics import precision_recall_curve\n",
    "\n",
    "curve_const_0 = np.array(precision_recall_curve(y_test, np.zeros_like(y_test)))\n",
    "curve_const_1 = np.array(precision_recall_curve(y_test, np.ones_like(y_test)))\n",
    "\n",
    "clf_knn = KNeighborsClassifier(n_neighbors=10).fit(X_train, y_train)\n",
    "proba_knn = clf_knn.predict_proba(X_test)[:,1]\n",
    "curve_knn = np.array(precision_recall_curve(y_test, proba_knn))\n",
    "\n",
    "clf_knn_scaled = KNeighborsClassifier(n_neighbors=10).fit(X_train_scaled, y_train)\n",
    "proba_knn_scaled = clf_knn_scaled.predict_proba(X_test_scaled)[:,1]\n",
    "curve_knn_scaled = np.array(precision_recall_curve(y_test, proba_knn_scaled))\n",
    "\n",
    "clf_tree = DecisionTreeClassifier(max_depth=7).fit(X_train, y_train)\n",
    "proba_tree = clf_tree.predict_proba(X_test)[:,1]\n",
    "curve_tree = np.array(precision_recall_curve(y_test, proba_tree))\n",
    "\n",
    "clf_tree_scaled = DecisionTreeClassifier(max_depth=7).fit(X_train_scaled, y_train)\n",
    "proba_tree_scaled = clf_tree_scaled.predict_proba(X_test_scaled)[:,1]\n",
    "curve_tree_scaled = np.array(precision_recall_curve(y_test, proba_tree_scaled))\n",
    "\n",
    "plt.plot(curve_const_0[1], curve_const_0[0], label='Constant 0')\n",
    "plt.plot(curve_const_1[1], curve_const_1[0], label='Constant 1')\n",
    "plt.plot(curve_knn[1], curve_knn[0], label='KNN')\n",
    "plt.plot(curve_knn_scaled[1], curve_knn_scaled[0], label='KNN scaled')\n",
    "plt.plot(curve_tree[1], curve_tree[0], label='Tree')\n",
    "plt.plot(curve_tree_scaled[1], curve_tree_scaled[0], label='Tree scaled')\n",
    "\n",
    "plt.title(\"Precision/Recall\")\n",
    "plt.xlabel('Recall')\n",
    "plt.ylabel('Precision')\n",
    "plt.legend(loc='lower left')\n",
    "\n",
    "plt.show()"
   ]
  },
  {
   "cell_type": "code",
   "execution_count": 130,
   "metadata": {
    "collapsed": false
   },
   "outputs": [
    {
     "name": "stdout",
     "output_type": "stream",
     "text": [
      "0.841346153846\n"
     ]
    }
   ],
   "source": [
    "knn_scaled_big_precision = map(lambda x, y: y if x > 0.9 else 0, curve_knn_scaled[0], curve_knn_scaled[1])\n",
    "max_recall = max(knn_scaled_big_precision)\n",
    "print(max_recall)"
   ]
  },
  {
   "cell_type": "code",
   "execution_count": 131,
   "metadata": {
    "collapsed": false
   },
   "outputs": [
    {
     "name": "stdout",
     "output_type": "stream",
     "text": [
      "0.850961538462\n"
     ]
    }
   ],
   "source": [
    "tree_big_precision = map(lambda x, y: y if x > 0.9 else 0, curve_tree[0], curve_tree[1])\n",
    "max_recall = max(tree_big_precision)\n",
    "print(max_recall)"
   ]
  },
  {
   "cell_type": "markdown",
   "metadata": {},
   "source": [
    "То есть максимальную полноту дает решающее дерево"
   ]
  },
  {
   "cell_type": "markdown",
   "metadata": {},
   "source": [
    "<h4>AUC-ROC"
   ]
  },
  {
   "cell_type": "code",
   "execution_count": 92,
   "metadata": {
    "collapsed": false
   },
   "outputs": [
    {
     "data": {
      "image/png": "[encoded data removed]",
      "text/plain": [
       "<matplotlib.figure.Figure at 0x116b37390>"
      ]
     },
     "metadata": {},
     "output_type": "display_data"
    }
   ],
   "source": [
    "from sklearn.metrics import roc_curve\n",
    "\n",
    "curve_const_0 = np.array(roc_curve(y_test, np.zeros_like(y_test)))\n",
    "curve_const_1 = np.array(roc_curve(y_test, np.ones_like(y_test)))\n",
    "\n",
    "clf_knn = KNeighborsClassifier(n_neighbors=10).fit(X_train, y_train)\n",
    "proba_knn = clf_knn.predict_proba(X_test)[:,1]\n",
    "curve_knn = np.array(roc_curve(y_test, proba_knn))\n",
    "\n",
    "clf_knn_scaled = KNeighborsClassifier(n_neighbors=10).fit(X_train_scaled, y_train)\n",
    "proba_knn_scaled = clf_knn_scaled.predict_proba(X_test_scaled)[:,1]\n",
    "curve_knn_scaled = np.array(roc_curve(y_test, proba_knn_scaled))\n",
    "\n",
    "clf_tree = DecisionTreeClassifier(max_depth=7).fit(X_train, y_train)\n",
    "proba_tree = clf_tree.predict_proba(X_test)[:,1]\n",
    "curve_tree = np.array(roc_curve(y_test, proba_tree))\n",
    "\n",
    "clf_tree_scaled = DecisionTreeClassifier(max_depth=7).fit(X_train_scaled, y_train)\n",
    "proba_tree_scaled = clf_tree_scaled.predict_proba(X_test_scaled)[:,1]\n",
    "curve_tree_scaled = np.array(roc_curve(y_test, proba_tree_scaled))\n",
    "\n",
    "plt.plot(curve_const_0[0], curve_const_0[1], label='Constant 0')\n",
    "plt.plot(curve_const_1[0], curve_const_1[1], label='Constant 1')\n",
    "plt.plot(curve_knn[0], curve_knn[1], label='KNN')\n",
    "plt.plot(curve_knn_scaled[0], curve_knn_scaled[1], label='KNN scaled')\n",
    "plt.plot(curve_tree[0], curve_tree[1], label='Tree')\n",
    "plt.plot(curve_tree_scaled[0], curve_tree_scaled[1], label='Tree scaled')\n",
    "\n",
    "plt.title(\"ROC\")\n",
    "plt.xlabel('FPR')\n",
    "plt.ylabel('TPR')\n",
    "plt.legend(loc='lower right')\n",
    "\n",
    "plt.show()"
   ]
  },
  {
   "cell_type": "code",
   "execution_count": 93,
   "metadata": {
    "collapsed": false
   },
   "outputs": [
    {
     "name": "stdout",
     "output_type": "stream",
     "text": [
      "Значения AUC-ROC:\n",
      "Constant 0:     0.5\n",
      "Constant 1:     0.5\n",
      "KNN:            0.859873238328\n",
      "KNN scaled:     0.958918097\n",
      "Tree:           0.934380166916\n",
      "Tree scaled:    0.869591141117\n"
     ]
    }
   ],
   "source": [
    "from sklearn.metrics import roc_auc_score\n",
    "\n",
    "print \"Значения AUC-ROC:\"\n",
    "print \"Constant 0: \".ljust(15), roc_auc_score(y_test, np.zeros_like(y_test))\n",
    "print \"Constant 1: \".ljust(15), roc_auc_score(y_test, np.ones_like(y_test))\n",
    "print \"KNN: \".ljust(15), roc_auc_score(y_test, proba_knn)\n",
    "print \"KNN scaled: \".ljust(15), roc_auc_score(y_test, proba_knn_scaled)\n",
    "print \"Tree: \".ljust(15), roc_auc_score(y_test, proba_tree)\n",
    "print \"Tree scaled: \".ljust(15), roc_auc_score(y_test, proba_tree_scaled)"
   ]
  },
  {
   "cell_type": "markdown",
   "metadata": {},
   "source": [
    "Побеждает kNN с масштабированием признаков"
   ]
  },
  {
   "cell_type": "markdown",
   "metadata": {
    "collapsed": true
   },
   "source": [
    "### Кросс-валидация и подбор параметров"
   ]
  },
  {
   "cell_type": "markdown",
   "metadata": {
    "collapsed": true
   },
   "source": [
    "Каждая модель машинного обучения имеет множество структурных параметров и параметров обучения: число соседей и тип функции расстояния в KNN, максимальная высота дерева, минимальное число объектов в листе дерева и т.д. Нет универсальных наборов параметров, оптимально работающих во всех задачах, для каждой задачи нужно подбирать свой набор параметров.\n",
    "\n",
    "Для оптимизации параметров модели часто используют перебор по сетке (grid search): для каждого параметра выбирается несколько значений, перебираются все комбинации значений параметров и выбирается комбинация, на которой модель показывает лучшее качество (с точки зрения метрики, которая оптимизируется).\n",
    "\n",
    "Сравнение большого числа моделей при переборе параметров приводит к ситуации, когда лучшая на тестовой подвыборке модель не сохраняет свои качества на новых данных. Можно сказать, что происходит переобучение на тестовую выборку.\n",
    "\n",
    "Для устранения этой проблемы, данные разбивают на 3 непересекающихся подвыборки: обучение (train), валидация (validation) и контроль (test)."
   ]
  },
  {
   "cell_type": "markdown",
   "metadata": {
    "collapsed": true
   },
   "source": [
    "Валидационную подвыборку используют для сравнения моделей, а test — для окончательной оценки качества и сравнения семейств моделей с подобранными параметрами.\n",
    "\n",
    "Более надежный способ объективного сравнения моделей — кросс-валидация. Существуют различные схемы кросс-валидации:\n",
    "\n",
    "- Leave-One-Out\n",
    "- K-Fold\n",
    "- Многократное случайное разбиение выборки\n",
    "Кросс-валидация вычислительно затратна, особенно если вы делаете перебор по сетке с очень большим числом комбинаций. С учетом конечности времени на выполнение задания, возникает ряд компромиссов:\n",
    "\n",
    "- сетку можно делать более разреженной, перебирая меньше значений каждого параметра, но в таком случае можно пропустить хорошую комбинацию параметров;\n",
    "- кросс-валидацию можно делать с меньшим числом разбиений или фолдов, но в таком случае оценка качества кросс-валидации становится более шумной и увеличивается риск выбрать неоптимальный набор параметров из-за случайности разбиения;\n",
    "- параметры можно оптимизировать последовательно (жадно) — один за другим, а не перебирать все комбинации; такая стратегия не всегда приводит к оптимальному набору;\n",
    "- перебирать не все комбинации параметров, а небольшое число случайно выбранных."
   ]
  },
  {
   "cell_type": "markdown",
   "metadata": {
    "collapsed": true
   },
   "source": [
    "**Задание**\n",
    "- Выберите схему кросс-валидаци, одну из перечисленных выше. Зафиксируйте разбиение кросс-валидации обучающей выборки. Кросс-валидировать нужно по выборке train из предыдущих заданий, test должен остаться независимым. Обратите внимание: при сравнении моделей, набор разбиений кросс-валидации не должен меняться, должен быть строго фиксированным.\n",
    "- Выберите одну метрику, которую будете оптимизировать при переборе параметров. Например, можно взять AUC-ROC.\n",
    "- Найдите оптимальный набор параметров дерева, перебрав значения параметров по сетке. Параметры для настройки: критерий разбиения, максимальная глубина, число признаков для каждого узла, минимальное число объектов в листе (или часть из этих параметров).\n",
    "- Найдите оптимальный набор параметров для KNN, перебрав значения параметров по сетке. Параметры для настройки: число соседей, функция расстояния, схема взвешивания (или часть из этих параметров).\n",
    "- Сравните полученные модели с моделями из предыдущих заданий. Сравнение необходимо проводить на тестовой выборке, которая не участвовала в подборе и обучении. Сравнение нужно проводить только по метрике которая оптимизировалась."
   ]
  },
  {
   "cell_type": "code",
   "execution_count": 49,
   "metadata": {
    "collapsed": false
   },
   "outputs": [],
   "source": [
    "from sklearn.cross_validation import KFold\n",
    "from sklearn.cross_validation import cross_val_score\n",
    "from sklearn import grid_search\n",
    "\n",
    "n_folds = 10\n",
    "\n",
    "cv = KFold(n=len(y_train), n_folds=n_folds, shuffle=True, random_state=123)"
   ]
  },
  {
   "cell_type": "markdown",
   "metadata": {},
   "source": [
    "<h4> Решающее дерево"
   ]
  },
  {
   "cell_type": "code",
   "execution_count": 64,
   "metadata": {
    "collapsed": false
   },
   "outputs": [
    {
     "name": "stdout",
     "output_type": "stream",
     "text": [
      "CPU times: user 36.6 s, sys: 233 ms, total: 36.8 s\n",
      "Wall time: 37 s\n"
     ]
    }
   ],
   "source": [
    "%%time\n",
    "\n",
    "parameters_grid = {\n",
    "    'criterion' : (\"gini\", \"entropy\"),\n",
    "    'max_depth' : range(3, 30),\n",
    "    'max_features' : (\"sqrt\", \"log2\"),\n",
    "    'min_samples_leaf' : range(1, 5),\n",
    "}\n",
    "\n",
    "grid_cv = grid_search.GridSearchCV(DecisionTreeClassifier(), parameters_grid, scoring = 'accuracy', cv = cv)\n",
    "\n",
    "grid_cv.fit(X_train, y_train)"
   ]
  },
  {
   "cell_type": "code",
   "execution_count": 65,
   "metadata": {
    "collapsed": false
   },
   "outputs": [],
   "source": [
    "clf = grid_cv.best_estimator_"
   ]
  },
  {
   "cell_type": "code",
   "execution_count": 66,
   "metadata": {
    "collapsed": false
   },
   "outputs": [
    {
     "name": "stdout",
     "output_type": "stream",
     "text": [
      "0.918\n",
      "{'max_features': 'sqrt', 'criterion': 'entropy', 'max_depth': 21, 'min_samples_leaf': 1}\n"
     ]
    }
   ],
   "source": [
    "clf = grid_cv.best_estimator_\n",
    "print grid_cv.best_score_\n",
    "print grid_cv.best_params_"
   ]
  },
  {
   "cell_type": "code",
   "execution_count": 68,
   "metadata": {
    "collapsed": false
   },
   "outputs": [
    {
     "name": "stdout",
     "output_type": "stream",
     "text": [
      "0.904434728295\n"
     ]
    }
   ],
   "source": [
    "clf.fit(X_train, y_train)\n",
    "y_test_predict = clf.predict(X_test)\n",
    "print(accuracy_score(y_test, y_test_predict))"
   ]
  },
  {
   "cell_type": "markdown",
   "metadata": {},
   "source": [
    "<h4> kNN с масштабированием признаков"
   ]
  },
  {
   "cell_type": "code",
   "execution_count": 70,
   "metadata": {
    "collapsed": true
   },
   "outputs": [],
   "source": [
    "from sklearn.preprocessing import scale\n",
    "\n",
    "X_train_scaled = scale(X_train)\n",
    "X_test_scaled = scale(X_test)"
   ]
  },
  {
   "cell_type": "code",
   "execution_count": 71,
   "metadata": {
    "collapsed": false
   },
   "outputs": [
    {
     "name": "stdout",
     "output_type": "stream",
     "text": [
      "CPU times: user 3min 53s, sys: 1.07 s, total: 3min 54s\n",
      "Wall time: 3min 56s\n"
     ]
    }
   ],
   "source": [
    "%%time\n",
    "\n",
    "from sklearn.neighbors import KNeighborsClassifier\n",
    "\n",
    "parameters_grid = {\n",
    "    'n_neighbors' : range(1, 20),\n",
    "    'p' : range(1, 5),\n",
    "}\n",
    "\n",
    "grid_cv = grid_search.GridSearchCV(KNeighborsClassifier(), parameters_grid, scoring = 'accuracy', cv = cv)\n",
    "\n",
    "grid_cv.fit(X_train_scaled, y_train)"
   ]
  },
  {
   "cell_type": "code",
   "execution_count": 72,
   "metadata": {
    "collapsed": false
   },
   "outputs": [
    {
     "name": "stdout",
     "output_type": "stream",
     "text": [
      "0.913666666667\n",
      "{'n_neighbors': 1, 'p': 1}\n"
     ]
    }
   ],
   "source": [
    "clf = grid_cv.best_estimator_\n",
    "print grid_cv.best_score_\n",
    "print grid_cv.best_params_"
   ]
  },
  {
   "cell_type": "code",
   "execution_count": 73,
   "metadata": {
    "collapsed": false
   },
   "outputs": [
    {
     "name": "stdout",
     "output_type": "stream",
     "text": [
      "0.881324172392\n"
     ]
    }
   ],
   "source": [
    "clf.fit(X_train_scaled, y_train)\n",
    "y_test_predict = clf.predict(X_test_scaled)\n",
    "print(accuracy_score(y_test, y_test_predict))"
   ]
  },
  {
   "cell_type": "markdown",
   "metadata": {},
   "source": [
    "<h1 align=\"center\">Примеры</h1> "
   ]
  },
  {
   "cell_type": "markdown",
   "metadata": {},
   "source": [
    "## Обучение решающего дерева"
   ]
  },
  {
   "cell_type": "code",
   "execution_count": 24,
   "metadata": {
    "collapsed": true
   },
   "outputs": [],
   "source": [
    "from sklearn.datasets import load_iris\n",
    "from sklearn.tree import DecisionTreeClassifier\n",
    "\n",
    "iris_data = load_iris()\n",
    "X, y = iris_data.data, iris_data.target\n",
    "\n",
    "clf = DecisionTreeClassifier(max_depth=3).fit(X, y)\n",
    "\n",
    "y_pred = clf.predict(X)"
   ]
  },
  {
   "cell_type": "markdown",
   "metadata": {},
   "source": [
    "#### Важность признаков"
   ]
  },
  {
   "cell_type": "markdown",
   "metadata": {},
   "source": [
    "Важность признаков вычисляется на основании частоты разбиения по признаку и глубины узлов дерева в которых происходило разбиение по признаку."
   ]
  },
  {
   "cell_type": "code",
   "execution_count": 25,
   "metadata": {
    "collapsed": false
   },
   "outputs": [
    {
     "name": "stdout",
     "output_type": "stream",
     "text": [
      "3 petal width (cm), importance = 0.95\n",
      "2 petal length (cm), importance = 0.05\n",
      "1 sepal width (cm), importance = 0.00\n",
      "0 sepal length (cm), importance = 0.00\n"
     ]
    }
   ],
   "source": [
    "most_important_features = argsort(clf.feature_importances_)[::-1]\n",
    "for idx in most_important_features:\n",
    "    print '%d %s, importance = %.2f' % (idx, iris_data.feature_names[idx], clf.feature_importances_[idx])"
   ]
  },
  {
   "cell_type": "markdown",
   "metadata": {},
   "source": [
    "#### Ошибочно классифицированные объекты обучающей выборки"
   ]
  },
  {
   "cell_type": "code",
   "execution_count": 26,
   "metadata": {
    "collapsed": false
   },
   "outputs": [
    {
     "data": {
      "text/plain": [
       "<matplotlib.text.Text at 0x114e0a190>"
      ]
     },
     "execution_count": 26,
     "metadata": {},
     "output_type": "execute_result"
    },
    {
     "data": {
      "image/png": "[encoded data removed]",
      "text/plain": [
       "<matplotlib.figure.Figure at 0x113d4b050>"
      ]
     },
     "metadata": {},
     "output_type": "display_data"
    }
   ],
   "source": [
    "xind, yind = most_important_features[0], most_important_features[1]\n",
    "err = (y != y_pred)\n",
    "scatter(X[err, xind], X[err, yind], c=y_pred[err], marker='x', s=80, linewidths=2)\n",
    "scatter(X[:, xind], X[:, yind], c=y)\n",
    "xlabel(iris_data.feature_names[xind])\n",
    "ylabel(iris_data.feature_names[yind])\n",
    "title(u'Classification errors')"
   ]
  },
  {
   "cell_type": "markdown",
   "metadata": {},
   "source": [
    "#### Визуализация дерева"
   ]
  },
  {
   "cell_type": "code",
   "execution_count": 27,
   "metadata": {
    "collapsed": true
   },
   "outputs": [],
   "source": [
    "from sklearn.tree import export_graphviz\n",
    "export_graphviz(clf, out_file='tree.dot', feature_names=iris_data.feature_names)"
   ]
  },
  {
   "cell_type": "code",
   "execution_count": 28,
   "metadata": {
    "collapsed": false
   },
   "outputs": [
    {
     "name": "stdout",
     "output_type": "stream",
     "text": [
      "/bin/sh: dot: command not found\r\n"
     ]
    }
   ],
   "source": [
    "!dot -Tpng tree.dot -o tree.png"
   ]
  },
  {
   "cell_type": "code",
   "execution_count": 29,
   "metadata": {
    "collapsed": false
   },
   "outputs": [
    {
     "data": {
      "image/png": "dHJlZS5wbmc=\n",
      "text/plain": [
       "<IPython.core.display.Image object>"
      ]
     },
     "execution_count": 29,
     "metadata": {},
     "output_type": "execute_result"
    }
   ],
   "source": [
    "from IPython.display import Image\n",
    "Image('tree.png')"
   ]
  },
  {
   "cell_type": "markdown",
   "metadata": {},
   "source": [
    "## Кросс-валидация"
   ]
  },
  {
   "cell_type": "code",
   "execution_count": 30,
   "metadata": {
    "collapsed": true
   },
   "outputs": [],
   "source": [
    "from sklearn.datasets import load_boston\n",
    "boston_data = load_boston()\n",
    "X, y = boston_data.data, boston_data.target"
   ]
  },
  {
   "cell_type": "markdown",
   "metadata": {},
   "source": [
    "Зафиксируем разбиение для 5-fold кросс-валидации."
   ]
  },
  {
   "cell_type": "code",
   "execution_count": 31,
   "metadata": {
    "collapsed": true
   },
   "outputs": [],
   "source": [
    "from sklearn.cross_validation import KFold\n",
    "cv = KFold(n=len(y), n_folds=5, shuffle=True, random_state=123)"
   ]
  },
  {
   "cell_type": "markdown",
   "metadata": {},
   "source": [
    "Обратите внимание на аргументы:\n",
    " \n",
    "\n",
    "- shuffle=True — без него фолды будут формироваться из последовательно идущих объектов, что нехорошо — в этом поможет убедиться задание в части 2;\n",
    "- random_state — если этот параметр не выставить, то после каждого запуска команды будет генерироваться новое разбиение на фолды; крайне желательно, чтобы ваши эксперименты были в точности воспроизводимы — это упрощает исследования.\n",
    "\n",
    "\n",
    "Оценим качество регрессии KNN на наборе Boston Housing для различных значений K (число соседей). В качестве метрики качества возьмем модуль отклонения:\n",
    "\n",
    " $MAE=\\sum_i|y_{pred,i}-y_i|$\n"
   ]
  },
  {
   "cell_type": "code",
   "execution_count": 32,
   "metadata": {
    "collapsed": true
   },
   "outputs": [],
   "source": [
    "from sklearn.neighbors import KNeighborsRegressor\n",
    "from sklearn.cross_validation import cross_val_score"
   ]
  },
  {
   "cell_type": "markdown",
   "metadata": {},
   "source": [
    "Переберем ряд значений n_neigbors, для каждого оценим среднее и стандартное отклонение MAE по кросс-валидации. Магия %%time позволяет измерить время работы ячейки с кодом."
   ]
  },
  {
   "cell_type": "code",
   "execution_count": 33,
   "metadata": {
    "collapsed": false
   },
   "outputs": [
    {
     "name": "stdout",
     "output_type": "stream",
     "text": [
      "CPU times: user 241 ms, sys: 55.8 ms, total: 297 ms\n",
      "Wall time: 300 ms\n"
     ]
    }
   ],
   "source": [
    "%%time \n",
    "\n",
    "k_values = range(1, 10) + range(10, 50, 5)\n",
    "mae_cv_mean = []\n",
    "mae_cv_std = []\n",
    "\n",
    "for k in k_values:\n",
    "    clf = KNeighborsRegressor(n_neighbors=k)\n",
    "    mae_folds = -cross_val_score(clf, X, y, cv=cv, scoring='mean_absolute_error')\n",
    "    mae_cv_mean.append(mae_folds.mean())\n",
    "    mae_cv_std.append(mae_folds.std())"
   ]
  },
  {
   "cell_type": "markdown",
   "metadata": {},
   "source": [
    "#### График, демонстрирующий оптимальность выбора числа соседей"
   ]
  },
  {
   "cell_type": "code",
   "execution_count": 34,
   "metadata": {
    "collapsed": false
   },
   "outputs": [
    {
     "data": {
      "text/plain": [
       "<matplotlib.text.Annotation at 0x1160930d0>"
      ]
     },
     "execution_count": 34,
     "metadata": {},
     "output_type": "execute_result"
    },
    {
     "data": {
      "image/png": "[encoded data removed]",
      "text/plain": [
       "<matplotlib.figure.Figure at 0x115fca350>"
      ]
     },
     "metadata": {},
     "output_type": "display_data"
    }
   ],
   "source": [
    "figure(figsize=(8, 4))\n",
    "errorbar(k_values, mae_cv_mean, yerr=array(mae_cv_std)*2)\n",
    "title('Choosing optimal number of neighbors with 5-Fold Cross-Validation')\n",
    "xlabel('n_neighbors')\n",
    "ylabel('mean absolute error')\n",
    "\n",
    "opt_idx = argmin(mae_cv_mean)\n",
    "optimal_k = k_values[opt_idx]\n",
    "optimal_mae = mae_cv_mean[opt_idx]\n",
    "annotate('n_neighbors=%d\\nMAE=%f' % (optimal_k, optimal_mae), \n",
    "         xy=(opt_idx, optimal_mae), xytext=(30, optimal_mae), \n",
    "         arrowprops=dict(facecolor='black', shrink=0.05, alpha=0.5))"
   ]
  }
 ],
 "metadata": {
  "kernelspec": {
   "display_name": "py2",
   "language": "python",
   "name": "py2"
  },
  "language_info": {
   "codemirror_mode": {
    "name": "ipython",
    "version": 2
   },
   "file_extension": ".py",
   "mimetype": "text/x-python",
   "name": "python",
   "nbconvert_exporter": "python",
   "pygments_lexer": "ipython2",
   "version": "2.7.10"
  }
 },
 "nbformat": 4,
 "nbformat_minor": 0
}
